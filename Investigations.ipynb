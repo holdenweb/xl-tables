{
 "cells": [
  {
   "cell_type": "markdown",
   "metadata": {},
   "source": [
    "## Health Data Reusability Project\n",
    "\n",
    "This notebook is an informal investigation into the technologies needed to take the data contained in \"open data\" publications from the UK Department of Health. This will allow researchers to automate computations and respond more speedily to changes.\n",
    "\n",
    "Some of this is ugly, some of it will doubtless be unnecessary, but it shows at least some of the preliminary work that goes into getting one's thinking straightened out about a particular program or set of programs."
   ]
  },
  {
   "cell_type": "code",
   "execution_count": null,
   "metadata": {
    "collapsed": true
   },
   "outputs": [],
   "source": [
    "import openpyxl as xl"
   ]
  },
  {
   "cell_type": "markdown",
   "metadata": {},
   "source": [
    "Note that this softare cannot read \".xls\" files. `wb = xl.load_workbook(\"data/gpearnextime.xls\")` raises an exception, so I toook the quick route and converted it to a \".xlsx\" file with Word before further processing.\n",
    "\n",
    "It might be worth investigating the older `xlrd` module, which can reals \".xls\" files (though sadly there appears\n",
    "to be no easy way to write them out as \".xslx\" files which I had hopes `xlwt` might have provided. I suspect that there will be an easy fix for this, but I'll need to speak to Chris Withers."
   ]
  },
  {
   "cell_type": "code",
   "execution_count": null,
   "metadata": {
    "collapsed": false
   },
   "outputs": [],
   "source": [
    "wb = xl.load_workbook(\"data/gpearnextime.xlsx\")"
   ]
  },
  {
   "cell_type": "code",
   "execution_count": null,
   "metadata": {
    "collapsed": false
   },
   "outputs": [],
   "source": [
    "wb.sheetnames"
   ]
  },
  {
   "cell_type": "code",
   "execution_count": null,
   "metadata": {
    "collapsed": true
   },
   "outputs": [],
   "source": [
    "ws = wb.get_sheet_by_name('1a. GPMS Cash Terms ')"
   ]
  },
  {
   "cell_type": "code",
   "execution_count": null,
   "metadata": {
    "collapsed": false
   },
   "outputs": [],
   "source": [
    "ws[\"B7\"].value"
   ]
  },
  {
   "cell_type": "markdown",
   "metadata": {},
   "source": [
    "Many of the spreadsheets express an extra dimensionality in the data using a merged cell intended to apply to all rows next to it. Since the cell value is only given once (it can be extracted from the first cell in the merged range, the rest having no value) we need some way to replicate the values as we progress down the sheet.\n",
    "\n",
    "Maybe a generator function taking the worksheet and the start position as an argument?"
   ]
  },
  {
   "cell_type": "code",
   "execution_count": null,
   "metadata": {
    "collapsed": false
   },
   "outputs": [],
   "source": [
    "for i in range(1, 200):\n",
    "    print(ws[\"B{}\".format(i)].value, ws[\"C{}\".format(i)].value)"
   ]
  },
  {
   "cell_type": "markdown",
   "metadata": {},
   "source": [
    "Note that the date values and the footnote numbers run together to give a single string value.\n",
    "That means some parsing has to be applied to separate it into a `(date, footnote)` pair, whose\n",
    "second member will be `None` if no notes apply.\n",
    "From an openness point of view it wold be much better to have a separate column for the footnotes that should be applied to the row."
   ]
  },
  {
   "cell_type": "code",
   "execution_count": null,
   "metadata": {
    "collapsed": false
   },
   "outputs": [],
   "source": [
    "def repeat_merge(ws, row, col):\n",
    "    last_value =  ws.cell(row=row, column=col).value\n",
    "    if last_value is None:\n",
    "        raise ValueError(\"Cell sequence must start with a non-empty cell\")\n",
    "    while not last_value.startswith(\"Copyright ©\"):\n",
    "        this_cell = ws.cell(row=row, column=col)\n",
    "        if this_cell.value is not None:\n",
    "            last_value = this_cell.value\n",
    "        yield last_value\n",
    "        row += 1\n",
    "\n",
    "titles = repeat_merge(ws, 1, 2)\n",
    "\n",
    "for i, t in enumerate(titles):\n",
    "    print(i, t)"
   ]
  },
  {
   "cell_type": "markdown",
   "metadata": {},
   "source": [
    "Turns out that may not be as useful as I thought. It would probably be eaiser to maintain the column values as part ofthe processing logic.\n",
    "\n",
    "(This was borne out when I wrote a non-terminting loop when experimenting with the code below)"
   ]
  },
  {
   "cell_type": "code",
   "execution_count": null,
   "metadata": {
    "collapsed": false
   },
   "outputs": [],
   "source": [
    "ws[\"B3\"].value"
   ]
  },
  {
   "cell_type": "code",
   "execution_count": null,
   "metadata": {
    "collapsed": false
   },
   "outputs": [],
   "source": [
    "def year_refs(s):\n",
    "    \"\"\"Separate the year string into the year plus the list of references\"\"\"\n",
    "    return s[:7], s[7:].split(\",\")"
   ]
  },
  {
   "cell_type": "code",
   "execution_count": null,
   "metadata": {
    "collapsed": false
   },
   "outputs": [],
   "source": [
    "years = repeat_merge(ws, 6, 3)\n",
    "for i in range(100):\n",
    "    print(year_refs(next(years)))"
   ]
  },
  {
   "cell_type": "code",
   "execution_count": null,
   "metadata": {
    "collapsed": false
   },
   "outputs": [],
   "source": [
    "ws[\"d81\"].value"
   ]
  },
  {
   "cell_type": "code",
   "execution_count": null,
   "metadata": {
    "collapsed": true
   },
   "outputs": [],
   "source": [
    "def num_val(val):\n",
    "    return 0 if val == \"-\" else val"
   ]
  },
  {
   "cell_type": "code",
   "execution_count": null,
   "metadata": {
    "collapsed": false
   },
   "outputs": [],
   "source": [
    "num_val(32.456)"
   ]
  },
  {
   "cell_type": "code",
   "execution_count": null,
   "metadata": {
    "collapsed": false
   },
   "outputs": [],
   "source": [
    "num_val(\"-\")"
   ]
  },
  {
   "cell_type": "code",
   "execution_count": null,
   "metadata": {
    "collapsed": false
   },
   "outputs": [],
   "source": [
    "3 == \"banana\""
   ]
  },
  {
   "cell_type": "code",
   "execution_count": null,
   "metadata": {
    "collapsed": true
   },
   "outputs": [],
   "source": [
    "cell = ws[\"B3\"]"
   ]
  },
  {
   "cell_type": "markdown",
   "metadata": {},
   "source": [
    "Probably a good idea to look at how we can find the relevant areas in a worksheet, then analyze the content of those areas (which will vary in size, increasing as the years go by."
   ]
  },
  {
   "cell_type": "code",
   "execution_count": null,
   "metadata": {
    "collapsed": false
   },
   "outputs": [],
   "source": [
    "ws[\"B3\"].value # Sheet heading"
   ]
  },
  {
   "cell_type": "code",
   "execution_count": null,
   "metadata": {
    "collapsed": false
   },
   "outputs": [],
   "source": [
    "ws[\"B5\"].value # Table heading"
   ]
  },
  {
   "cell_type": "code",
   "execution_count": null,
   "metadata": {
    "collapsed": false
   },
   "outputs": [],
   "source": [
    "cells = ws.get_cell_collection()"
   ]
  },
  {
   "cell_type": "code",
   "execution_count": null,
   "metadata": {
    "collapsed": false
   },
   "outputs": [],
   "source": [
    "from collections import defaultdict\n",
    "\n",
    "cols_in_row = defaultdict(list)\n",
    "\n",
    "for cell in cells:\n",
    "    if cell.value is not None:\n",
    "        cols_in_row[cell.row].append(cell.column)"
   ]
  },
  {
   "cell_type": "code",
   "execution_count": null,
   "metadata": {
    "collapsed": false
   },
   "outputs": [],
   "source": [
    "max_row = max(c for c in sorted(cols_in_row.keys()))\n",
    "max_row"
   ]
  },
  {
   "cell_type": "markdown",
   "metadata": {},
   "source": [
    "Note that cell J43 has a spurious value that should really be ignored. Wonder how long that's been there and who knows it is ..."
   ]
  },
  {
   "cell_type": "code",
   "execution_count": null,
   "metadata": {
    "collapsed": false
   },
   "outputs": [],
   "source": [
    "cols_in_row[43].remove('J')\n",
    "cols_in_row[43]"
   ]
  },
  {
   "cell_type": "raw",
   "metadata": {
    "collapsed": false
   },
   "source": [
    "max_col = max(c for r in range(rows) for c in cols_in_row[r])\n",
    "max_col"
   ]
  },
  {
   "cell_type": "raw",
   "metadata": {
    "collapsed": false
   },
   "source": [
    "cols = ord(max_col)-ord(\"@\")"
   ]
  },
  {
   "cell_type": "code",
   "execution_count": null,
   "metadata": {
    "collapsed": false,
    "scrolled": true
   },
   "outputs": [],
   "source": [
    "pixels = [] # straight list of pixel values for graphic\n",
    "matrix = []\n",
    "#print(\"  \".join(list(\"ABCDEFG\"))) # Column headings\n",
    "for row_num in range(max_row):\n",
    "    cols = cols_in_row[row_num]\n",
    "    row_string = []\n",
    "    row_matrix = []\n",
    "    for col_name in \"ABCDEFG\":\n",
    "        row_string.append(\"*\" if col_name in cols else \" \")\n",
    "        row_matrix.append(col_name in cols)\n",
    "    #print(\"  \".join(row_string))\n",
    "    matrix.append(row_matrix)\n",
    "    pixels += [1-p for p in row_matrix]"
   ]
  },
  {
   "cell_type": "code",
   "execution_count": null,
   "metadata": {
    "collapsed": false
   },
   "outputs": [],
   "source": [
    "str_sizes = \"\".join(str(sum(x for x in row)) for row in matrix)"
   ]
  },
  {
   "cell_type": "code",
   "execution_count": null,
   "metadata": {
    "collapsed": false
   },
   "outputs": [],
   "source": [
    "import re\n",
    "for m in re.finditer(\"(?P<m>1665)\", str_sizes):\n",
    "    print(m.span()[0])"
   ]
  },
  {
   "cell_type": "code",
   "execution_count": null,
   "metadata": {
    "collapsed": false
   },
   "outputs": [],
   "source": [
    "im = Image.new(\"1\", (7, 198))"
   ]
  },
  {
   "cell_type": "code",
   "execution_count": null,
   "metadata": {
    "collapsed": false
   },
   "outputs": [],
   "source": [
    "im.putdata(pixels)"
   ]
  },
  {
   "cell_type": "code",
   "execution_count": null,
   "metadata": {
    "collapsed": false
   },
   "outputs": [],
   "source": [
    "im.resize((245, 198*4))"
   ]
  },
  {
   "cell_type": "code",
   "execution_count": null,
   "metadata": {
    "collapsed": true
   },
   "outputs": [],
   "source": [
    "im = ImageColour"
   ]
  },
  {
   "cell_type": "code",
   "execution_count": null,
   "metadata": {
    "collapsed": true
   },
   "outputs": [],
   "source": [
    "im = ImageColour"
   ]
  },
  {
   "cell_type": "code",
   "execution_count": null,
   "metadata": {
    "collapsed": true
   },
   "outputs": [],
   "source": [
    "im = Image.Image"
   ]
  },
  {
   "cell_type": "code",
   "execution_count": null,
   "metadata": {
    "collapsed": false,
    "scrolled": false
   },
   "outputs": [],
   "source": [
    "help(Image)"
   ]
  },
  {
   "cell_type": "markdown",
   "metadata": {},
   "source": [
    "In order to analyze the cell more fully the crummy visualization shows us we need to focus on Column B."
   ]
  },
  {
   "cell_type": "code",
   "execution_count": null,
   "metadata": {
    "collapsed": true
   },
   "outputs": [],
   "source": [
    "from itertools import count\n",
    "\n",
    "def next_non_empty(r):\n",
    "    for r in count(r):\n",
    "        if ws[\"B{}\".format(r)].value is not None:\n",
    "            return r"
   ]
  },
  {
   "cell_type": "code",
   "execution_count": null,
   "metadata": {
    "collapsed": false
   },
   "outputs": [],
   "source": [
    "r = 0\n",
    "while r < max_row:\n",
    "    r = next_non_empty(r+1)\n",
    "    print(r)"
   ]
  },
  {
   "cell_type": "code",
   "execution_count": null,
   "metadata": {
    "collapsed": false
   },
   "outputs": [],
   "source": [
    "2"
   ]
  },
  {
   "cell_type": "code",
   "execution_count": null,
   "metadata": {
    "collapsed": true
   },
   "outputs": [],
   "source": []
  }
 ],
 "metadata": {
  "kernelspec": {
   "display_name": "Python 3",
   "language": "python",
   "name": "python3"
  },
  "language_info": {
   "codemirror_mode": {
    "name": "ipython",
    "version": 3
   },
   "file_extension": ".py",
   "mimetype": "text/x-python",
   "name": "python",
   "nbconvert_exporter": "python",
   "pygments_lexer": "ipython3",
   "version": "3.4.2"
  }
 },
 "nbformat": 4,
 "nbformat_minor": 0
}

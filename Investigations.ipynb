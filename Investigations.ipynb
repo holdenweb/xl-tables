{
 "cells": [
  {
   "cell_type": "markdown",
   "metadata": {},
   "source": [
    "## Health Data Reusability Project\n",
    "\n",
    "This notebook is an informal investigation into the technologies needed to take the data contained in \"open data\" publications from the UK Department of Health. This will allow researchers to automate computations and respond more speedily to changes.\n",
    "\n",
    "Some of this is ugly, some of it will doubtless be unnecessary, but it shows at least some of the preliminary work that goes into getting one's thinking straightened out about a particular program or set of programs."
   ]
  },
  {
   "cell_type": "code",
   "execution_count": 168,
   "metadata": {
    "collapsed": false
   },
   "outputs": [],
   "source": [
    "import openpyxl as xl"
   ]
  },
  {
   "cell_type": "markdown",
   "metadata": {},
   "source": [
    "Note that this softare cannot read \".xls\" files. `wb = xl.load_workbook(\"data/gpearnextime.xls\")` raises an exception, so I toook the quick route and converted it to a \".xlsx\" file with Word before further processing.\n",
    "\n",
    "It might be worth investigating the older `xlrd` module, which can reals \".xls\" files (though sadly there appears\n",
    "to be no easy way to write them out as \".xslx\" files which I had hopes `xlwt` might have provided. I suspect that there will be an easy fix for this, but I'll need to speak to Chris Withers."
   ]
  },
  {
   "cell_type": "code",
   "execution_count": 169,
   "metadata": {
    "collapsed": false
   },
   "outputs": [
    {
     "name": "stderr",
     "output_type": "stream",
     "text": [
      "/Users/sholden/Projects/HealthData/hd.env/lib/python3.4/site-packages/openpyxl/workbook/names/named_range.py:122: UserWarning: Discarded range with reserved name\n",
      "  warnings.warn(\"Discarded range with reserved name\")\n",
      "/Users/sholden/Projects/HealthData/hd.env/lib/python3.4/site-packages/openpyxl/workbook/names/named_range.py:150: UserWarning: Invalid range_names: _A1, _Cal05, _Cc1, _Dd1, _Ee1, _Ff1, newname1, _xlnm.Print_Area, _xlnm.Print_Titles\n",
      "  warnings.warn(\"Invalid range_names: \"+\", \".join(invalid_range_names))\n"
     ]
    }
   ],
   "source": [
    "wb = xl.load_workbook(\"data/gpearnextime.xlsx\")"
   ]
  },
  {
   "cell_type": "code",
   "execution_count": 170,
   "metadata": {
    "collapsed": false
   },
   "outputs": [
    {
     "data": {
      "text/plain": [
       "['Contents',\n",
       " 'Definitions and Changes',\n",
       " '1a. GPMS Cash Terms ',\n",
       " '1b. GPMS Real Terms',\n",
       " 'Real terms working - HIDE',\n",
       " '1c. GMS',\n",
       " '1d. PMS',\n",
       " '2a. GPMS Expenses',\n",
       " '2b. GMS Expenses',\n",
       " '2c. PMS Expenses',\n",
       " '3a. GPMS by Age ',\n",
       " '3b. GPMS by Age ',\n",
       " '4a. GPMS by Rurality ',\n",
       " '4b. GPMS by Rurality ',\n",
       " '5a. GPMS by Practice Size',\n",
       " '5b. GPMS by Practice Size',\n",
       " '6a. GPMS by SHA_GOR',\n",
       " '6b. GPMS by SHA_GOR ',\n",
       " '7a. GPMS by NHS ER',\n",
       " '7b. GPMS by NHS ER',\n",
       " '8. GPMS Distribution',\n",
       " '9a. All Salaried',\n",
       " '9b. Salaried by Country ',\n",
       " '9c. Salaried by Age',\n",
       " '9d. Salaried by Rurality',\n",
       " '9e. Salaried by SHA_GOR',\n",
       " '9f. Salaried by NHS ER',\n",
       " '10. Salaried Distribution ',\n",
       " '11. Combined GPs']"
      ]
     },
     "execution_count": 170,
     "metadata": {},
     "output_type": "execute_result"
    }
   ],
   "source": [
    "wb.sheetnames"
   ]
  },
  {
   "cell_type": "code",
   "execution_count": 171,
   "metadata": {
    "collapsed": true
   },
   "outputs": [],
   "source": [
    "ws = wb.get_sheet_by_name('1a. GPMS Cash Terms ')"
   ]
  },
  {
   "cell_type": "code",
   "execution_count": 172,
   "metadata": {
    "collapsed": false
   },
   "outputs": [
    {
     "data": {
      "text/plain": [
       "'All Practice Types'"
      ]
     },
     "execution_count": 172,
     "metadata": {},
     "output_type": "execute_result"
    }
   ],
   "source": [
    "ws[\"B7\"].value"
   ]
  },
  {
   "cell_type": "code",
   "execution_count": 173,
   "metadata": {
    "collapsed": false
   },
   "outputs": [
    {
     "name": "stdout",
     "output_type": "stream",
     "text": [
      "Return to contents None\n",
      "None None\n",
      "GP EARNINGS AND EXPENSES 2002/03 TO 2012/13 CASH TERMS \n",
      "UK, ENGLAND, SCOTLAND, WALES, NORTHERN IRELAND None\n",
      "None None\n",
      "GPMS UK None\n",
      "Practice Type Year\n",
      "All Practice Types 2002/031\n",
      "None 2003/041\n",
      "None 2004/05\n",
      "None 2005/06\n",
      "None 2006/07\n",
      "None 2007/08\n",
      "None 2008/09\n",
      "None 2009/10\n",
      "None 2010/11\n",
      "None 2011/12\n",
      "None 2012/13\n",
      "All Dispensing 2002/031\n",
      "None 2003/041\n",
      "None 2004/05\n",
      "None 2005/06\n",
      "None 2006/07\n",
      "None 2007/08\n",
      "None 2008/09\n",
      "None 2009/10\n",
      "None 2010/11\n",
      "None 2011/12\n",
      "None 2012/13\n",
      "All Non-Dispensing 2002/031,2\n",
      "None 2003/041,2\n",
      "None 2004/05\n",
      "None 2005/06\n",
      "None 2006/07\n",
      "None 2007/08\n",
      "None 2008/09\n",
      "None 2009/10\n",
      "None 2010/11\n",
      "None 2011/12\n",
      "None 2012/13\n",
      "None None\n",
      "None None\n",
      "GPMS ENGLAND None\n",
      "Practice Type Year\n",
      "All Practice Types 2002/03\n",
      "None 2003/04\n",
      "None 2004/05\n",
      "None 2005/06\n",
      "None 2006/07\n",
      "None 2007/08\n",
      "None 2008/09\n",
      "None 2009/10\n",
      "None 2010/11\n",
      "None 2011/12\n",
      "None 2012/13\n",
      "All Dispensing 2002/03\n",
      "None 2003/04\n",
      "None 2004/053\n",
      "None 2005/06\n",
      "None 2006/07\n",
      "None 2007/08\n",
      "None 2008/09\n",
      "None 2009/10\n",
      "None 2010/11\n",
      "None 2011/12\n",
      "None 2012/13\n",
      "All Non-Dispensing 2002/032\n",
      "None 2003/042\n",
      "None 2004/053\n",
      "None 2005/06\n",
      "None 2006/07\n",
      "None 2007/08\n",
      "None 2008/09\n",
      "None 2009/10\n",
      "None 2010/11\n",
      "None 2011/12\n",
      "None 2012/13\n",
      "None None\n",
      "None None\n",
      "GPMS SCOTLAND None\n",
      "Practice Type Year\n",
      "All Practice Types 2002/034\n",
      "None 2003/04\n",
      "None 2004/05\n",
      "None 2005/06\n",
      "None 2006/07\n",
      "None 2007/08\n",
      "None 2008/09\n",
      "None 2009/10\n",
      "None 2010/11\n",
      "None 2011/12\n",
      "None 2012/13\n",
      "All Dispensing 2002/034\n",
      "None 2003/04\n",
      "None 2004/053\n",
      "None 2005/06\n",
      "None 2006/07\n",
      "None 2007/08\n",
      "None 2008/09\n",
      "None 2009/10\n",
      "None 2010/11\n",
      "None 2011/12\n",
      "None 2012/13\n",
      "All Non-Dispensing 2002/032,4\n",
      "None 2003/042\n",
      "None 2004/053\n",
      "None 2005/06\n",
      "None 2006/07\n",
      "None 2007/08\n",
      "None 2008/09\n",
      "None 2009/10\n",
      "None 2010/11\n",
      "None 2011/12\n",
      "None 2012/13\n",
      "None None\n",
      "None None\n",
      "GPMS WALES None\n",
      "Practice Type Year\n",
      "All Practice Types 2002/03\n",
      "None 2003/04\n",
      "None 2004/05\n",
      "None 2005/06\n",
      "None 2006/07\n",
      "None 2007/08\n",
      "None 2008/09\n",
      "None 2009/10\n",
      "None 2010/11\n",
      "None 2011/12\n",
      "None 2012/13\n",
      "All Dispensing 2002/03\n",
      "None 2003/04\n",
      "None 2004/053\n",
      "None 2005/06\n",
      "None 2006/07\n",
      "None 2007/08\n",
      "None 2008/09\n",
      "None 2009/10\n",
      "None 2010/11\n",
      "None 2011/12\n",
      "None 2012/13\n",
      "All Non-Dispensing 2002/032\n",
      "None 2003/042\n",
      "None 2004/053\n",
      "None 2005/06\n",
      "None 2006/07\n",
      "None 2007/08\n",
      "None 2008/09\n",
      "None 2009/10\n",
      "None 2010/11\n",
      "None 2011/12\n",
      "None 2012/13\n",
      "None None\n",
      "None None\n",
      "GPMS NORTHERN IRELAND None\n",
      "Practice Type Year\n",
      "All Practice Types 2002/03\n",
      "None 2003/04\n",
      "None 2004/05\n",
      "None 2005/06\n",
      "None 2006/07\n",
      "None 2007/08\n",
      "None 2008/09\n",
      "None 2009/10\n",
      "None 2010/11\n",
      "None 2011/12\n",
      "None 2012/13\n",
      "All Dispensing 2002/03\n",
      "None 2003/04\n",
      "None 2004/05\n",
      "None 2005/06\n",
      "None 2006/07\n",
      "None 2007/08\n",
      "None 2008/09\n",
      "None 2009/10\n",
      "None 2010/11\n",
      "None 2011/12\n",
      "None 2012/13\n",
      "All Non-Dispensing 2002/032\n",
      "None 2003/042\n",
      "None 2004/05\n",
      "None 2005/06\n",
      "None 2006/07\n",
      "None 2007/08\n",
      "None 2008/09\n",
      "None 2009/10\n",
      "None 2010/11\n",
      "None 2011/12\n",
      "None 2012/13\n",
      "None None\n",
      "1 GB not UK figures. Despite Northern Ireland figures being published for these years, UK figures were not published. None\n",
      "2 Pre 2004/05 two categories were used to describe non dispensers,  \"non dispensers with help\" and \"non dispensers without help\". None\n",
      " Therefore, figures for All Non-Dispensers for these years are not available. However, this was not the case for Northern Ireland figures. None\n",
      "3 In 2004/05, only high level figures were adjusted, therefore some results are not available. See the definitions and changes tab  None\n",
      " for more information on adjustments. None\n",
      "4 PMS figures are not available for Scotland in 2002/03, therefore the GPMS figures are not included. None\n",
      "None None\n",
      "Return to Top None\n",
      "None None\n",
      "Copyright © 2014, The Health and Social Care Information Centre. All Rights Reserved. None\n",
      "None None\n"
     ]
    }
   ],
   "source": [
    "for i in range(1, 200):\n",
    "    print(ws[\"B{}\".format(i)].value, ws[\"C{}\".format(i)].value)"
   ]
  },
  {
   "cell_type": "markdown",
   "metadata": {},
   "source": [
    "Note that the date values and the footnote numbers run together to give a single string value.\n",
    "That means some parsing has to be applied to separate it into a `(date, footnote)` pair, whose\n",
    "second member will be `None` if no notes apply.\n",
    "From an openness point of view it would be much better to have a separate column for the footnotes that should be applied to the row.\n",
    "Then again, from an openness point of view it would be better not to use Excel spreadsheets "
   ]
  },
  {
   "cell_type": "markdown",
   "metadata": {},
   "source": [
    "Turns out that may not be as useful as I thought. It would probably be eaiser to maintain the column values as part ofthe processing logic.\n",
    "\n",
    "(This was borne out when I wrote a non-terminting loop when experimenting with the code below)"
   ]
  },
  {
   "cell_type": "code",
   "execution_count": 174,
   "metadata": {
    "collapsed": false
   },
   "outputs": [
    {
     "data": {
      "text/plain": [
       "'GP EARNINGS AND EXPENSES 2002/03 TO 2012/13 CASH TERMS \\nUK, ENGLAND, SCOTLAND, WALES, NORTHERN IRELAND'"
      ]
     },
     "execution_count": 174,
     "metadata": {},
     "output_type": "execute_result"
    }
   ],
   "source": [
    "ws[\"B3\"].value"
   ]
  },
  {
   "cell_type": "code",
   "execution_count": 175,
   "metadata": {
    "collapsed": false
   },
   "outputs": [],
   "source": [
    "def year_refs(s):\n",
    "    \"\"\"Separate the year string into the year plus the list of references\"\"\"\n",
    "    return s[:7], s[7:].split(\",\")"
   ]
  },
  {
   "cell_type": "code",
   "execution_count": 176,
   "metadata": {
    "collapsed": false
   },
   "outputs": [
    {
     "data": {
      "text/plain": [
       "'-'"
      ]
     },
     "execution_count": 176,
     "metadata": {},
     "output_type": "execute_result"
    }
   ],
   "source": [
    "ws[\"d81\"].value"
   ]
  },
  {
   "cell_type": "code",
   "execution_count": 177,
   "metadata": {
    "collapsed": true
   },
   "outputs": [],
   "source": [
    "def num_val(val):\n",
    "    return 0 if val == \"-\" else val"
   ]
  },
  {
   "cell_type": "code",
   "execution_count": 178,
   "metadata": {
    "collapsed": false
   },
   "outputs": [
    {
     "data": {
      "text/plain": [
       "32.456"
      ]
     },
     "execution_count": 178,
     "metadata": {},
     "output_type": "execute_result"
    }
   ],
   "source": [
    "num_val(32.456)"
   ]
  },
  {
   "cell_type": "code",
   "execution_count": 179,
   "metadata": {
    "collapsed": false
   },
   "outputs": [
    {
     "data": {
      "text/plain": [
       "0"
      ]
     },
     "execution_count": 179,
     "metadata": {},
     "output_type": "execute_result"
    }
   ],
   "source": [
    "num_val(\"-\")"
   ]
  },
  {
   "cell_type": "code",
   "execution_count": 180,
   "metadata": {
    "collapsed": false
   },
   "outputs": [
    {
     "data": {
      "text/plain": [
       "False"
      ]
     },
     "execution_count": 180,
     "metadata": {},
     "output_type": "execute_result"
    }
   ],
   "source": [
    "3 == \"banana\""
   ]
  },
  {
   "cell_type": "code",
   "execution_count": 181,
   "metadata": {
    "collapsed": true
   },
   "outputs": [],
   "source": [
    "cell = ws[\"B3\"]"
   ]
  },
  {
   "cell_type": "markdown",
   "metadata": {},
   "source": [
    "Probably a good idea to look at how we can find the relevant areas in a worksheet, then analyze the content of those areas (which will vary in size, increasing as the years go by."
   ]
  },
  {
   "cell_type": "code",
   "execution_count": 182,
   "metadata": {
    "collapsed": false
   },
   "outputs": [
    {
     "data": {
      "text/plain": [
       "'GP EARNINGS AND EXPENSES 2002/03 TO 2012/13 CASH TERMS \\nUK, ENGLAND, SCOTLAND, WALES, NORTHERN IRELAND'"
      ]
     },
     "execution_count": 182,
     "metadata": {},
     "output_type": "execute_result"
    }
   ],
   "source": [
    "ws[\"B3\"].value # Sheet heading"
   ]
  },
  {
   "cell_type": "code",
   "execution_count": 183,
   "metadata": {
    "collapsed": false
   },
   "outputs": [
    {
     "data": {
      "text/plain": [
       "'GPMS UK'"
      ]
     },
     "execution_count": 183,
     "metadata": {},
     "output_type": "execute_result"
    }
   ],
   "source": [
    "ws[\"B5\"].value # Table heading"
   ]
  },
  {
   "cell_type": "code",
   "execution_count": 184,
   "metadata": {
    "collapsed": false
   },
   "outputs": [],
   "source": [
    "cells = ws.get_cell_collection()"
   ]
  },
  {
   "cell_type": "code",
   "execution_count": 185,
   "metadata": {
    "collapsed": false
   },
   "outputs": [],
   "source": [
    "from collections import defaultdict\n",
    "\n",
    "cols_in_row = defaultdict(list)\n",
    "\n",
    "for cell in cells:\n",
    "    if cell.value is not None:\n",
    "        cols_in_row[cell.row].append(cell.column)"
   ]
  },
  {
   "cell_type": "code",
   "execution_count": 186,
   "metadata": {
    "collapsed": false
   },
   "outputs": [
    {
     "data": {
      "text/plain": [
       "198"
      ]
     },
     "execution_count": 186,
     "metadata": {},
     "output_type": "execute_result"
    }
   ],
   "source": [
    "max_row = max(c for c in sorted(cols_in_row.keys()))\n",
    "max_row"
   ]
  },
  {
   "cell_type": "markdown",
   "metadata": {},
   "source": [
    "Note that cell J43 has a spurious value that should really be ignored. Wonder how long that's been there and who knows it is ..."
   ]
  },
  {
   "cell_type": "code",
   "execution_count": 187,
   "metadata": {
    "collapsed": false
   },
   "outputs": [
    {
     "data": {
      "text/plain": [
       "['C', 'G', 'F', 'D', 'E', 'B']"
      ]
     },
     "execution_count": 187,
     "metadata": {},
     "output_type": "execute_result"
    }
   ],
   "source": [
    "cols_in_row[43].remove('J')\n",
    "cols_in_row[43]"
   ]
  },
  {
   "cell_type": "raw",
   "metadata": {
    "collapsed": false
   },
   "source": [
    "max_col = max(c for r in range(rows) for c in cols_in_row[r])\n",
    "max_col"
   ]
  },
  {
   "cell_type": "raw",
   "metadata": {
    "collapsed": false
   },
   "source": [
    "cols = ord(max_col)-ord(\"@\")"
   ]
  },
  {
   "cell_type": "code",
   "execution_count": 188,
   "metadata": {
    "collapsed": false,
    "scrolled": true
   },
   "outputs": [],
   "source": [
    "pixels = [] # straight list of pixel values for graphic\n",
    "matrix = []\n",
    "#print(\"  \".join(list(\"ABCDEFG\"))) # Column headings\n",
    "for row_num in range(max_row):\n",
    "    cols = cols_in_row[row_num]\n",
    "    row_string = []\n",
    "    row_matrix = []\n",
    "    for col_name in \"ABCDEFG\":\n",
    "        row_string.append(\"*\" if col_name in cols else \" \")\n",
    "        row_matrix.append(col_name in cols)\n",
    "    #print(\"  \".join(row_string))\n",
    "    matrix.append(row_matrix)\n",
    "    pixels += [1-p for p in row_matrix] + [1]*7 # add pixel row plus blank row"
   ]
  },
  {
   "cell_type": "code",
   "execution_count": 189,
   "metadata": {
    "collapsed": false
   },
   "outputs": [],
   "source": [
    "from PIL import Image\n",
    "im = Image.new(\"1\", (7, 198*2))"
   ]
  },
  {
   "cell_type": "code",
   "execution_count": 190,
   "metadata": {
    "collapsed": false
   },
   "outputs": [],
   "source": [
    "im.putdata(pixels)"
   ]
  },
  {
   "cell_type": "code",
   "execution_count": 191,
   "metadata": {
    "collapsed": false
   },
   "outputs": [
    {
     "data": {
      "image/png": "[encoded data removed]",
      "text/plain": [
       "<PIL.Image.Image image mode=1 size=140x792 at 0x117527A20>"
      ]
     },
     "execution_count": 191,
     "metadata": {},
     "output_type": "execute_result"
    }
   ],
   "source": [
    "im.resize((7*20, 198*4))"
   ]
  },
  {
   "cell_type": "markdown",
   "metadata": {},
   "source": [
    "This visualization makes the pattern of the tables more obvious.\n",
    "Each table begubs with a row with a single cell, followed by two cells with six rows and a number of rows with five cells.\n",
    "Now, it would be possible to construct a vector with the number of cells in each row, and then search\n",
    "that for patterns characteristic of the start of a table.\n",
    "Whenever you find yourself thinking \"pattern,\" though, it's worth considering using Python's `re`\n",
    "regular expression-based pattern-matching algorithm.\n",
    "Since no row has more than seven cells we can construct a ___string of row lengths___ and then\n",
    "use pattern matching to find the starting positions of the tables.\n",
    "The task then simplifies to finding the string `\"1665\"`."
   ]
  },
  {
   "cell_type": "code",
   "execution_count": 192,
   "metadata": {
    "collapsed": true
   },
   "outputs": [],
   "source": [
    "str_sizes = \"\".join(str(sum(x for x in row)) for row in matrix)"
   ]
  },
  {
   "cell_type": "code",
   "execution_count": 193,
   "metadata": {
    "collapsed": false
   },
   "outputs": [
    {
     "name": "stdout",
     "output_type": "stream",
     "text": [
      "5\n",
      "42\n",
      "79\n",
      "116\n",
      "153\n"
     ]
    }
   ],
   "source": [
    "import re\n",
    "for m in re.finditer(\"(?P<m>1665)\", str_sizes):\n",
    "    print(m.span()[0])"
   ]
  },
  {
   "cell_type": "markdown",
   "metadata": {
    "collapsed": true,
    "scrolled": false
   },
   "source": [
    "Maybe there's some easier way to determing the shape without all these complex manipulations.\n",
    "I don't know about you, but I often find my second approach to a problem is more intelligent\n",
    "than the first (that's why we are often recommended to write a prototype _and then throw it away_).\n",
    "So consider everything above as prototypical, offering insight into the necessary analysis but using a horribly inefficient algorithm."
   ]
  },
  {
   "cell_type": "code",
   "execution_count": 194,
   "metadata": {
    "collapsed": false
   },
   "outputs": [
    {
     "data": {
      "text/plain": [
       "16"
      ]
     },
     "execution_count": 194,
     "metadata": {},
     "output_type": "execute_result"
    }
   ],
   "source": [
    "len(ws.columns)"
   ]
  },
  {
   "cell_type": "code",
   "execution_count": 195,
   "metadata": {
    "collapsed": false
   },
   "outputs": [],
   "source": [
    "col_counts =[sum(cell.value is not None for cell in column) for column in ws.columns]"
   ]
  },
  {
   "cell_type": "code",
   "execution_count": 196,
   "metadata": {
    "collapsed": false
   },
   "outputs": [
    {
     "data": {
      "text/plain": [
       "[1, 2, 3, 4, 5, 6]"
      ]
     },
     "execution_count": 196,
     "metadata": {},
     "output_type": "execute_result"
    }
   ],
   "source": [
    "valid_cols = [i for (i, ct) in  enumerate(col_counts) if ct > 1]\n",
    "valid_cols"
   ]
  },
  {
   "cell_type": "code",
   "execution_count": 197,
   "metadata": {
    "collapsed": false
   },
   "outputs": [
    {
     "data": {
      "text/plain": [
       "185"
      ]
     },
     "execution_count": 197,
     "metadata": {},
     "output_type": "execute_result"
    }
   ],
   "source": [
    "row_counts =[sum(cell.value is not None for cell in row) for row in ws.rows]\n",
    "valid_rows = [i for (i, ct) in  enumerate(row_counts) if ct > 0]\n",
    "len(valid_rows)"
   ]
  },
  {
   "cell_type": "code",
   "execution_count": 198,
   "metadata": {
    "collapsed": false
   },
   "outputs": [],
   "source": [
    "ncols = len(valid_cols)\n",
    "max_row_num = max(valid_rows)\n",
    "pixels = []\n",
    "row_counts = []\n",
    "for row in range(max_row_num):\n",
    "    cell_strings = []\n",
    "    row_pixels = []\n",
    "    for col in valid_cols:\n",
    "        value = ws.rows[row][col].value\n",
    "        row_pixels.append(value is None)\n",
    "    pixels += row_pixels*3 + [1]*ncols # blank line\n",
    "    row_counts.append(sum(1-pixel for pixel in row_pixels))"
   ]
  },
  {
   "cell_type": "code",
   "execution_count": 199,
   "metadata": {
    "collapsed": false
   },
   "outputs": [
    {
     "data": {
      "image/png": "[encoded data removed]",
      "text/plain": [
       "<PIL.Image.Image image mode=1 size=84x1584 at 0x117630E48>"
      ]
     },
     "execution_count": 199,
     "metadata": {},
     "output_type": "execute_result"
    }
   ],
   "source": [
    "im = Image.new(\"1\", (ncols, 4*(max_row_num)))\n",
    "im.putdata(pixels)\n",
    "im.resize((14*ncols, 8*(max_row_num+1)))"
   ]
  },
  {
   "cell_type": "markdown",
   "metadata": {},
   "source": [
    "It appears that this techmique can be fairly effectively used to get an idea of the shape of a worksheet.\n",
    "The next step will be to turn that into a function with the worksheet as a parameter, and apply it to all the sheets on a workbook."
   ]
  },
  {
   "cell_type": "code",
   "execution_count": 200,
   "metadata": {
    "collapsed": true
   },
   "outputs": [],
   "source": [
    "%matplotlib inline"
   ]
  },
  {
   "cell_type": "code",
   "execution_count": 201,
   "metadata": {
    "collapsed": false
   },
   "outputs": [],
   "source": [
    "def visualize(ws):\n",
    "    col_counts =[sum(cell.value is not None for cell in column) for column in ws.columns]\n",
    "    valid_cols = [i for (i, ct) in  enumerate(col_counts) if ct > 1]\n",
    "    row_counts =[sum(cell.value is not None for cell in row) for row in ws.rows]\n",
    "    valid_rows = [i for (i, ct) in  enumerate(row_counts) if ct > 0]\n",
    "    ncols = len(valid_cols)\n",
    "    max_row_num = max(valid_rows)\n",
    "    pixels = []\n",
    "    row_counts = []\n",
    "    for row in range(max_row_num):\n",
    "        cell_strings = []\n",
    "        row_pixels = []\n",
    "        for col in valid_cols:\n",
    "            value = ws.rows[row][col].value\n",
    "            row_pixels.append(value is None)\n",
    "        pixels += row_pixels*3 + [1]*ncols # blank line\n",
    "        row_counts.append(sum(1-pixel for pixel in row_pixels))\n",
    "    im = Image.new(\"1\", (ncols, 4*(max_row_num)))\n",
    "    im.putdata(pixels)\n",
    "    return im.resize((14*ncols, 8*(max_row_num+1))), row_counts"
   ]
  },
  {
   "cell_type": "code",
   "execution_count": 202,
   "metadata": {
    "collapsed": false
   },
   "outputs": [],
   "source": [
    "images = []; row_counts = []\n",
    "for ws in wb.worksheets:\n",
    "    if ws.sheet_state != \"hidden\": # exclude hidden sheets\n",
    "        image, counts = visualize(ws)\n",
    "        images.append(image)\n",
    "        row_counts.append(counts)"
   ]
  },
  {
   "cell_type": "code",
   "execution_count": 203,
   "metadata": {
    "collapsed": false
   },
   "outputs": [
    {
     "data": {
      "text/plain": [
       "(3370, 2680)"
      ]
     },
     "execution_count": 203,
     "metadata": {},
     "output_type": "execute_result"
    }
   ],
   "source": [
    "LEFT_MARGIN = 4\n",
    "im_width = sum(i.size[0] for i in images)+(len(images)-1)*LEFT_MARGIN\n",
    "im_height = max(i.size[1] for i in images)\n",
    "im_width, im_height"
   ]
  },
  {
   "cell_type": "code",
   "execution_count": 204,
   "metadata": {
    "collapsed": false
   },
   "outputs": [
    {
     "data": {
      "text/plain": [
       "28"
      ]
     },
     "execution_count": 204,
     "metadata": {},
     "output_type": "execute_result"
    }
   ],
   "source": [
    "len(row_counts)"
   ]
  },
  {
   "cell_type": "code",
   "execution_count": 205,
   "metadata": {
    "collapsed": false
   },
   "outputs": [],
   "source": [
    "x_offset = 0\n",
    "big_image = Image.new(\"1\", (im_width, im_height), 1)\n",
    "for i, im in enumerate(images):\n",
    "    big_image.paste(im, (x_offset, 0))\n",
    "    x_offset += im.size[0]+LEFT_MARGIN"
   ]
  },
  {
   "cell_type": "code",
   "execution_count": 206,
   "metadata": {
    "collapsed": false
   },
   "outputs": [
    {
     "data": {
      "image/png": "[encoded data removed]",
      "text/plain": [
       "<PIL.Image.Image image mode=1 size=3370x2680 at 0x118BDD908>"
      ]
     },
     "execution_count": 206,
     "metadata": {},
     "output_type": "execute_result"
    }
   ],
   "source": [
    "big_imageaccep"
   ]
  },
  {
   "cell_type": "code",
   "execution_count": 207,
   "metadata": {
    "collapsed": false
   },
   "outputs": [
    {
     "data": {
      "text/plain": [
       "<Worksheet \"1a. GPMS Cash Terms \">"
      ]
     },
     "execution_count": 207,
     "metadata": {},
     "output_type": "execute_result"
    }
   ],
   "source": [
    "ws = wb.worksheets[2]\n",
    "ws"
   ]
  },
  {
   "cell_type": "code",
   "execution_count": 208,
   "metadata": {
    "collapsed": false,
    "scrolled": false
   },
   "outputs": [
    {
     "name": "stdout",
     "output_type": "stream",
     "text": [
      "GP EARNINGS AND EXPENSES 2002/03 TO 2012/13 CASH TERMS \n",
      "UK, ENGLAND, SCOTLAND, WALES, NORTHERN IRELAND\n"
     ]
    }
   ],
   "source": [
    "# Page header is in B3 always?\n",
    "page_header = ws[\"B3\"].value\n",
    "print(page_header)"
   ]
  },
  {
   "cell_type": "code",
   "execution_count": 209,
   "metadata": {
    "collapsed": false,
    "scrolled": false
   },
   "outputs": [
    {
     "data": {
      "text/plain": [
       "'10101665555555555655555555556555555555500166555555555565555555555655555555550016655555555556555555555565555555555001665555555555655555555556555555555500166555555555565555555555655555555550111111010'"
      ]
     },
     "execution_count": 209,
     "metadata": {},
     "output_type": "execute_result"
    }
   ],
   "source": [
    "counts_string = \"\".join(str(n) for n in row_counts[2])\n",
    "counts_string"
   ]
  },
  {
   "cell_type": "markdown",
   "metadata": {},
   "source": [
    "Looking for the pattern `\"1665\"`\\* in `counts_string` finds a six-column table.\n",
    "The first line is the name of the table.\n",
    "The second line is the column headings.\n",
    "The remainder of the table is a number of repeating groups.\n",
    "The first column is special because unchanged values aren't repeated (which is why subsequent lines only have five elements).\n",
    "While this is helpful for the human reader's comprehension it has to be corrected for the computer.\n",
    "\n",
    "\\* Yes, this is a fix - that string was chosen because I knew there were six columns in the tables.\n",
    "We may or may not get to the computation of the number of columns later."
   ]
  },
  {
   "cell_type": "code",
   "execution_count": 210,
   "metadata": {
    "collapsed": false
   },
   "outputs": [
    {
     "data": {
      "text/plain": [
       "[4, 41, 78, 115, 152]"
      ]
     },
     "execution_count": 210,
     "metadata": {},
     "output_type": "execute_result"
    }
   ],
   "source": [
    "    table_starts = [x.start(\"X\") for x in re.finditer(\"(?P<X>1665)\", counts_string)]\n",
    "table_starts"
   ]
  },
  {
   "cell_type": "code",
   "execution_count": 211,
   "metadata": {
    "collapsed": false
   },
   "outputs": [
    {
     "data": {
      "text/plain": [
       "[33, 33, 33, 33, 33]"
      ]
     },
     "execution_count": 211,
     "metadata": {},
     "output_type": "execute_result"
    }
   ],
   "source": [
    "table_lens = [x.end(\"X\")-x.start(\"X\")-1 for x in re.finditer(\"(1(?P<X>665([56]+)))\", counts_string)]\n",
    "table_lens"
   ]
  },
  {
   "cell_type": "code",
   "execution_count": 212,
   "metadata": {
    "collapsed": false
   },
   "outputs": [
    {
     "data": {
      "text/plain": [
       "5"
      ]
     },
     "execution_count": 212,
     "metadata": {},
     "output_type": "execute_result"
    }
   ],
   "source": [
    "number_of_tables = len(table_starts)\n",
    "number_of_tables"
   ]
  },
  {
   "cell_type": "markdown",
   "metadata": {},
   "source": [
    "Let's do a little work on the first table.\n",
    "Also, let's learn how to access the elements we need in order to construct a usable data source.\n",
    "The crucial facts for each table are the number of groups, the number of rows in each group\n",
    "and the number of columns in the table.\n",
    "When you think about it this is simply a description of a three-dimensional structure.\n",
    "The first table reports figures over the whole UK.\n",
    "The remainder analyze that information geographically, adding a fourth dimension to the data."
   ]
  },
  {
   "cell_type": "markdown",
   "metadata": {},
   "source": [
    "Let's do a little work on the first table to learn what we'll need to do in the general case.\n",
    "\n",
    "Firstly, let's see how to access the various \"chunks\" of the table, beginning with its title."
   ]
  },
  {
   "cell_type": "code",
   "execution_count": 213,
   "metadata": {
    "collapsed": false
   },
   "outputs": [
    {
     "data": {
      "text/plain": [
       "('GPMS UK',\n",
       " <Cell 1a. GPMS Cash Terms .B5>,\n",
       " <Cell 1a. GPMS Cash Terms .B5>,\n",
       " <Cell 1a. GPMS Cash Terms .B5>)"
      ]
     },
     "execution_count": 213,
     "metadata": {},
     "output_type": "execute_result"
    }
   ],
   "source": [
    "start_row = table_starts[0]\n",
    "table_len = table_lens[0]\n",
    "ws[\"B5\"].value, ws[\"B5\"], ws.columns[1][4], ws.columns[1][start_row]"
   ]
  },
  {
   "cell_type": "code",
   "execution_count": 214,
   "metadata": {
    "collapsed": false
   },
   "outputs": [
    {
     "data": {
      "text/plain": [
       "'GPMS UK'"
      ]
     },
     "execution_count": 214,
     "metadata": {},
     "output_type": "execute_result"
    }
   ],
   "source": [
    "title_cell = ws.columns[1][start_row]\n",
    "title_cell.value"
   ]
  },
  {
   "cell_type": "markdown",
   "metadata": {},
   "source": [
    "Next we need to extract the column names, which are on the row following the title."
   ]
  },
  {
   "cell_type": "code",
   "execution_count": 226,
   "metadata": {
    "collapsed": false
   },
   "outputs": [
    {
     "data": {
      "text/plain": [
       "['Practice Type',\n",
       " 'Year',\n",
       " 'Estimated Population',\n",
       " 'Gross Earnings',\n",
       " 'Total Expenses',\n",
       " 'Income Before Tax']"
      ]
     },
     "execution_count": 226,
     "metadata": {},
     "output_type": "execute_result"
    }
   ],
   "source": [
    "table_cols = 6\n",
    "# was int(counts_string[start_row+1]), but that depended on arcane knowledge in the building of the pattern\n",
    "headers = [c.value for c in ws.rows[start_row+1][1:table_cols+1]] # really should have computed that \"6\" from the pattern ...\n",
    "headers"
   ]
  },
  {
   "cell_type": "code",
   "execution_count": 216,
   "metadata": {
    "collapsed": false
   },
   "outputs": [],
   "source": [
    "# This is a cheesy way to work out how many groups there are\n",
    "pat = \"(?P<X>(65+)+)\"\n",
    "m = re.search(pat, counts_string, start_row+2)\n",
    "assert m.groups(0)[0].replace(m.groups(0)[1], \"\") == \"\" # only true for fixed groups"
   ]
  },
  {
   "cell_type": "code",
   "execution_count": 231,
   "metadata": {
    "collapsed": false
   },
   "outputs": [
    {
     "data": {
      "text/plain": [
       "3"
      ]
     },
     "execution_count": 231,
     "metadata": {},
     "output_type": "execute_result"
    }
   ],
   "source": [
    "group_count = len(m.groups(0)[0])//len(m.groups(0)[1])\n",
    "group_count"
   ]
  },
  {
   "cell_type": "code",
   "execution_count": 232,
   "metadata": {
    "collapsed": false
   },
   "outputs": [
    {
     "data": {
      "text/plain": [
       "11"
      ]
     },
     "execution_count": 232,
     "metadata": {},
     "output_type": "execute_result"
    }
   ],
   "source": [
    "group_len = table_len//group_count\n",
    "group_len"
   ]
  },
  {
   "cell_type": "code",
   "execution_count": 269,
   "metadata": {
    "collapsed": false
   },
   "outputs": [],
   "source": [
    "import pandas as pd\n",
    "first_data_row = start_row+2\n",
    "dataframes = []\n",
    "for data_start_row in range(first_data_row, first_data_row+table_len, group_len):\n",
    "    group_cells = [[ws.rows[row][col].value for col in range(1, table_cols+1)]\n",
    "                   for row in range(data_start_row, data_start_row+group_len)]\n",
    "    group = pd.DataFrame(group_cells, columns=headers)\n",
    "    group[headers[0]] = group[headers[0]][0]\n",
    "    dataframes.append(group)"
   ]
  },
  {
   "cell_type": "code",
   "execution_count": 270,
   "metadata": {
    "collapsed": false
   },
   "outputs": [],
   "source": [
    "big_frame = pd.concat(dataframes)"
   ]
  },
  {
   "cell_type": "code",
   "execution_count": 271,
   "metadata": {
    "collapsed": false
   },
   "outputs": [],
   "source": [
    "big_frame.index = range(table_len)"
   ]
  },
  {
   "cell_type": "code",
   "execution_count": 272,
   "metadata": {
    "collapsed": false
   },
   "outputs": [
    {
     "data": {
      "text/html": [
       "<div style=\"max-height:1000px;max-width:1500px;overflow:auto;\">\n",
       "<table border=\"1\" class=\"dataframe\">\n",
       "  <thead>\n",
       "    <tr style=\"text-align: right;\">\n",
       "      <th></th>\n",
       "      <th>Practice Type</th>\n",
       "      <th>Year</th>\n",
       "      <th>Estimated Population</th>\n",
       "      <th>Gross Earnings</th>\n",
       "      <th>Total Expenses</th>\n",
       "      <th>Income Before Tax</th>\n",
       "    </tr>\n",
       "  </thead>\n",
       "  <tbody>\n",
       "    <tr>\n",
       "      <th>0</th>\n",
       "      <td>All Practice Types</td>\n",
       "      <td>2002/031</td>\n",
       "      <td>31362</td>\n",
       "      <td>184154</td>\n",
       "      <td>111439</td>\n",
       "      <td>72716</td>\n",
       "    </tr>\n",
       "    <tr>\n",
       "      <th>1</th>\n",
       "      <td>All Practice Types</td>\n",
       "      <td>2003/041</td>\n",
       "      <td>31594.98</td>\n",
       "      <td>203613.5</td>\n",
       "      <td>121594.8</td>\n",
       "      <td>82018.71</td>\n",
       "    </tr>\n",
       "    <tr>\n",
       "      <th>2</th>\n",
       "      <td>All Practice Types</td>\n",
       "      <td>2004/05</td>\n",
       "      <td>33887.99</td>\n",
       "      <td>230096.7</td>\n",
       "      <td>129926.2</td>\n",
       "      <td>100169.5</td>\n",
       "    </tr>\n",
       "    <tr>\n",
       "      <th>3</th>\n",
       "      <td>All Practice Types</td>\n",
       "      <td>2005/06</td>\n",
       "      <td>33874.98</td>\n",
       "      <td>245019.6</td>\n",
       "      <td>135016</td>\n",
       "      <td>110003.6</td>\n",
       "    </tr>\n",
       "    <tr>\n",
       "      <th>4</th>\n",
       "      <td>All Practice Types</td>\n",
       "      <td>2006/07</td>\n",
       "      <td>33887</td>\n",
       "      <td>247361.6</td>\n",
       "      <td>139694.4</td>\n",
       "      <td>107667.2</td>\n",
       "    </tr>\n",
       "    <tr>\n",
       "      <th>5</th>\n",
       "      <td>All Practice Types</td>\n",
       "      <td>2007/08</td>\n",
       "      <td>33622</td>\n",
       "      <td>251997.3</td>\n",
       "      <td>145925.4</td>\n",
       "      <td>106071.9</td>\n",
       "    </tr>\n",
       "    <tr>\n",
       "      <th>6</th>\n",
       "      <td>All Practice Types</td>\n",
       "      <td>2008/09</td>\n",
       "      <td>33371</td>\n",
       "      <td>258600</td>\n",
       "      <td>153300</td>\n",
       "      <td>105300</td>\n",
       "    </tr>\n",
       "    <tr>\n",
       "      <th>7</th>\n",
       "      <td>All Practice Types</td>\n",
       "      <td>2009/10</td>\n",
       "      <td>33050</td>\n",
       "      <td>262700</td>\n",
       "      <td>156900</td>\n",
       "      <td>105700</td>\n",
       "    </tr>\n",
       "    <tr>\n",
       "      <th>8</th>\n",
       "      <td>All Practice Types</td>\n",
       "      <td>2010/11</td>\n",
       "      <td>33000</td>\n",
       "      <td>266500</td>\n",
       "      <td>162400</td>\n",
       "      <td>104100</td>\n",
       "    </tr>\n",
       "    <tr>\n",
       "      <th>9</th>\n",
       "      <td>All Practice Types</td>\n",
       "      <td>2011/12</td>\n",
       "      <td>32950</td>\n",
       "      <td>267900</td>\n",
       "      <td>164900</td>\n",
       "      <td>103000</td>\n",
       "    </tr>\n",
       "    <tr>\n",
       "      <th>10</th>\n",
       "      <td>All Practice Types</td>\n",
       "      <td>2012/13</td>\n",
       "      <td>32850</td>\n",
       "      <td>271800</td>\n",
       "      <td>169700</td>\n",
       "      <td>102000</td>\n",
       "    </tr>\n",
       "    <tr>\n",
       "      <th>11</th>\n",
       "      <td>All Dispensing</td>\n",
       "      <td>2002/031</td>\n",
       "      <td>4851</td>\n",
       "      <td>271003</td>\n",
       "      <td>183830</td>\n",
       "      <td>87172</td>\n",
       "    </tr>\n",
       "    <tr>\n",
       "      <th>12</th>\n",
       "      <td>All Dispensing</td>\n",
       "      <td>2003/041</td>\n",
       "      <td>5233.81</td>\n",
       "      <td>286133.3</td>\n",
       "      <td>188593.1</td>\n",
       "      <td>97540.19</td>\n",
       "    </tr>\n",
       "    <tr>\n",
       "      <th>13</th>\n",
       "      <td>All Dispensing</td>\n",
       "      <td>2004/05</td>\n",
       "      <td>5329.23</td>\n",
       "      <td>317973.9</td>\n",
       "      <td>198418.1</td>\n",
       "      <td>119555.8</td>\n",
       "    </tr>\n",
       "    <tr>\n",
       "      <th>14</th>\n",
       "      <td>All Dispensing</td>\n",
       "      <td>2005/06</td>\n",
       "      <td>5303.1</td>\n",
       "      <td>331894.9</td>\n",
       "      <td>204833.9</td>\n",
       "      <td>127061</td>\n",
       "    </tr>\n",
       "    <tr>\n",
       "      <th>15</th>\n",
       "      <td>All Dispensing</td>\n",
       "      <td>2006/07</td>\n",
       "      <td>5288</td>\n",
       "      <td>330790.8</td>\n",
       "      <td>203794.5</td>\n",
       "      <td>126996.3</td>\n",
       "    </tr>\n",
       "    <tr>\n",
       "      <th>16</th>\n",
       "      <td>All Dispensing</td>\n",
       "      <td>2007/08</td>\n",
       "      <td>5121</td>\n",
       "      <td>338498.9</td>\n",
       "      <td>213334.2</td>\n",
       "      <td>125164.7</td>\n",
       "    </tr>\n",
       "    <tr>\n",
       "      <th>17</th>\n",
       "      <td>All Dispensing</td>\n",
       "      <td>2008/09</td>\n",
       "      <td>4910</td>\n",
       "      <td>346800</td>\n",
       "      <td>225400</td>\n",
       "      <td>121500</td>\n",
       "    </tr>\n",
       "    <tr>\n",
       "      <th>18</th>\n",
       "      <td>All Dispensing</td>\n",
       "      <td>2009/10</td>\n",
       "      <td>4850</td>\n",
       "      <td>348200</td>\n",
       "      <td>226800</td>\n",
       "      <td>121400</td>\n",
       "    </tr>\n",
       "    <tr>\n",
       "      <th>19</th>\n",
       "      <td>All Dispensing</td>\n",
       "      <td>2010/11</td>\n",
       "      <td>5050</td>\n",
       "      <td>356500</td>\n",
       "      <td>237700</td>\n",
       "      <td>118800</td>\n",
       "    </tr>\n",
       "    <tr>\n",
       "      <th>20</th>\n",
       "      <td>All Dispensing</td>\n",
       "      <td>2011/12</td>\n",
       "      <td>5000</td>\n",
       "      <td>357800</td>\n",
       "      <td>241900</td>\n",
       "      <td>115900</td>\n",
       "    </tr>\n",
       "    <tr>\n",
       "      <th>21</th>\n",
       "      <td>All Dispensing</td>\n",
       "      <td>2012/13</td>\n",
       "      <td>4900</td>\n",
       "      <td>360400</td>\n",
       "      <td>246100</td>\n",
       "      <td>114300</td>\n",
       "    </tr>\n",
       "    <tr>\n",
       "      <th>22</th>\n",
       "      <td>All Non-Dispensing</td>\n",
       "      <td>2002/031,2</td>\n",
       "      <td>-</td>\n",
       "      <td>-</td>\n",
       "      <td>-</td>\n",
       "      <td>-</td>\n",
       "    </tr>\n",
       "    <tr>\n",
       "      <th>23</th>\n",
       "      <td>All Non-Dispensing</td>\n",
       "      <td>2003/041,2</td>\n",
       "      <td>-</td>\n",
       "      <td>-</td>\n",
       "      <td>-</td>\n",
       "      <td>-</td>\n",
       "    </tr>\n",
       "    <tr>\n",
       "      <th>24</th>\n",
       "      <td>All Non-Dispensing</td>\n",
       "      <td>2004/05</td>\n",
       "      <td>28558.76</td>\n",
       "      <td>213738.3</td>\n",
       "      <td>117145.2</td>\n",
       "      <td>96593.08</td>\n",
       "    </tr>\n",
       "    <tr>\n",
       "      <th>25</th>\n",
       "      <td>All Non-Dispensing</td>\n",
       "      <td>2005/06</td>\n",
       "      <td>28571.88</td>\n",
       "      <td>228319.4</td>\n",
       "      <td>121638.9</td>\n",
       "      <td>106680.5</td>\n",
       "    </tr>\n",
       "    <tr>\n",
       "      <th>26</th>\n",
       "      <td>All Non-Dispensing</td>\n",
       "      <td>2006/07</td>\n",
       "      <td>28599</td>\n",
       "      <td>231935.4</td>\n",
       "      <td>127842.2</td>\n",
       "      <td>104093.2</td>\n",
       "    </tr>\n",
       "    <tr>\n",
       "      <th>27</th>\n",
       "      <td>All Non-Dispensing</td>\n",
       "      <td>2007/08</td>\n",
       "      <td>28501</td>\n",
       "      <td>236454.8</td>\n",
       "      <td>133813.5</td>\n",
       "      <td>102641.3</td>\n",
       "    </tr>\n",
       "    <tr>\n",
       "      <th>28</th>\n",
       "      <td>All Non-Dispensing</td>\n",
       "      <td>2008/09</td>\n",
       "      <td>28461</td>\n",
       "      <td>243400</td>\n",
       "      <td>140900</td>\n",
       "      <td>102500</td>\n",
       "    </tr>\n",
       "    <tr>\n",
       "      <th>29</th>\n",
       "      <td>All Non-Dispensing</td>\n",
       "      <td>2009/10</td>\n",
       "      <td>28200</td>\n",
       "      <td>248000</td>\n",
       "      <td>145000</td>\n",
       "      <td>103000</td>\n",
       "    </tr>\n",
       "    <tr>\n",
       "      <th>30</th>\n",
       "      <td>All Non-Dispensing</td>\n",
       "      <td>2010/11</td>\n",
       "      <td>27950</td>\n",
       "      <td>250300</td>\n",
       "      <td>148900</td>\n",
       "      <td>101500</td>\n",
       "    </tr>\n",
       "    <tr>\n",
       "      <th>31</th>\n",
       "      <td>All Non-Dispensing</td>\n",
       "      <td>2011/12</td>\n",
       "      <td>27950</td>\n",
       "      <td>251900</td>\n",
       "      <td>151200</td>\n",
       "      <td>100700</td>\n",
       "    </tr>\n",
       "    <tr>\n",
       "      <th>32</th>\n",
       "      <td>All Non-Dispensing</td>\n",
       "      <td>2012/13</td>\n",
       "      <td>27900</td>\n",
       "      <td>256200</td>\n",
       "      <td>156300</td>\n",
       "      <td>99900</td>\n",
       "    </tr>\n",
       "  </tbody>\n",
       "</table>\n",
       "</div>"
      ],
      "text/plain": [
       "         Practice Type        Year Estimated Population Gross Earnings  \\\n",
       "0   All Practice Types    2002/031                31362         184154   \n",
       "1   All Practice Types    2003/041             31594.98       203613.5   \n",
       "2   All Practice Types     2004/05             33887.99       230096.7   \n",
       "3   All Practice Types     2005/06             33874.98       245019.6   \n",
       "4   All Practice Types     2006/07                33887       247361.6   \n",
       "5   All Practice Types     2007/08                33622       251997.3   \n",
       "6   All Practice Types     2008/09                33371         258600   \n",
       "7   All Practice Types     2009/10                33050         262700   \n",
       "8   All Practice Types     2010/11                33000         266500   \n",
       "9   All Practice Types     2011/12                32950         267900   \n",
       "10  All Practice Types     2012/13                32850         271800   \n",
       "11      All Dispensing    2002/031                 4851         271003   \n",
       "12      All Dispensing    2003/041              5233.81       286133.3   \n",
       "13      All Dispensing     2004/05              5329.23       317973.9   \n",
       "14      All Dispensing     2005/06               5303.1       331894.9   \n",
       "15      All Dispensing     2006/07                 5288       330790.8   \n",
       "16      All Dispensing     2007/08                 5121       338498.9   \n",
       "17      All Dispensing     2008/09                 4910         346800   \n",
       "18      All Dispensing     2009/10                 4850         348200   \n",
       "19      All Dispensing     2010/11                 5050         356500   \n",
       "20      All Dispensing     2011/12                 5000         357800   \n",
       "21      All Dispensing     2012/13                 4900         360400   \n",
       "22  All Non-Dispensing  2002/031,2                    -              -   \n",
       "23  All Non-Dispensing  2003/041,2                    -              -   \n",
       "24  All Non-Dispensing     2004/05             28558.76       213738.3   \n",
       "25  All Non-Dispensing     2005/06             28571.88       228319.4   \n",
       "26  All Non-Dispensing     2006/07                28599       231935.4   \n",
       "27  All Non-Dispensing     2007/08                28501       236454.8   \n",
       "28  All Non-Dispensing     2008/09                28461         243400   \n",
       "29  All Non-Dispensing     2009/10                28200         248000   \n",
       "30  All Non-Dispensing     2010/11                27950         250300   \n",
       "31  All Non-Dispensing     2011/12                27950         251900   \n",
       "32  All Non-Dispensing     2012/13                27900         256200   \n",
       "\n",
       "   Total Expenses Income Before Tax  \n",
       "0          111439             72716  \n",
       "1        121594.8          82018.71  \n",
       "2        129926.2          100169.5  \n",
       "3          135016          110003.6  \n",
       "4        139694.4          107667.2  \n",
       "5        145925.4          106071.9  \n",
       "6          153300            105300  \n",
       "7          156900            105700  \n",
       "8          162400            104100  \n",
       "9          164900            103000  \n",
       "10         169700            102000  \n",
       "11         183830             87172  \n",
       "12       188593.1          97540.19  \n",
       "13       198418.1          119555.8  \n",
       "14       204833.9            127061  \n",
       "15       203794.5          126996.3  \n",
       "16       213334.2          125164.7  \n",
       "17         225400            121500  \n",
       "18         226800            121400  \n",
       "19         237700            118800  \n",
       "20         241900            115900  \n",
       "21         246100            114300  \n",
       "22              -                 -  \n",
       "23              -                 -  \n",
       "24       117145.2          96593.08  \n",
       "25       121638.9          106680.5  \n",
       "26       127842.2          104093.2  \n",
       "27       133813.5          102641.3  \n",
       "28         140900            102500  \n",
       "29         145000            103000  \n",
       "30         148900            101500  \n",
       "31         151200            100700  \n",
       "32         156300             99900  "
      ]
     },
     "execution_count": 272,
     "metadata": {},
     "output_type": "execute_result"
    }
   ],
   "source": [
    "big_frame"
   ]
  },
  {
   "cell_type": "code",
   "execution_count": 281,
   "metadata": {
    "collapsed": false
   },
   "outputs": [
    {
     "data": {
      "text/plain": [
       "22         NaN\n",
       "23         NaN\n",
       "24    28558.76\n",
       "25    28571.88\n",
       "26    28599.00\n",
       "27    28501.00\n",
       "28    28461.00\n",
       "29    28200.00\n",
       "30    27950.00\n",
       "31    27950.00\n",
       "32    27900.00\n",
       "Name: Estimated Population, dtype: float64"
      ]
     },
     "execution_count": 281,
     "metadata": {},
     "output_type": "execute_result"
    }
   ],
   "source": [
    "import numpy as np\n",
    "big_frame[\"Estimated Population\"][22:33].replace(\"-\", np.NaN).interpolate()"
   ]
  },
  {
   "cell_type": "code",
   "execution_count": 278,
   "metadata": {
    "collapsed": false
   },
   "outputs": [
    {
     "data": {
      "text/html": [
       "<div style=\"max-height:1000px;max-width:1500px;overflow:auto;\">\n",
       "<table border=\"1\" class=\"dataframe\">\n",
       "  <thead>\n",
       "    <tr style=\"text-align: right;\">\n",
       "      <th></th>\n",
       "      <th>Practice Type</th>\n",
       "      <th>Year</th>\n",
       "      <th>Estimated Population</th>\n",
       "      <th>Gross Earnings</th>\n",
       "      <th>Total Expenses</th>\n",
       "      <th>Income Before Tax</th>\n",
       "    </tr>\n",
       "  </thead>\n",
       "  <tbody>\n",
       "    <tr>\n",
       "      <th>0</th>\n",
       "      <td>All Practice Types</td>\n",
       "      <td>2002/031</td>\n",
       "      <td>31362</td>\n",
       "      <td>184154</td>\n",
       "      <td>111439</td>\n",
       "      <td>72716</td>\n",
       "    </tr>\n",
       "    <tr>\n",
       "      <th>1</th>\n",
       "      <td>All Practice Types</td>\n",
       "      <td>2003/041</td>\n",
       "      <td>31594.98</td>\n",
       "      <td>203613.5</td>\n",
       "      <td>121594.8</td>\n",
       "      <td>82018.71</td>\n",
       "    </tr>\n",
       "    <tr>\n",
       "      <th>2</th>\n",
       "      <td>All Practice Types</td>\n",
       "      <td>2004/05</td>\n",
       "      <td>33887.99</td>\n",
       "      <td>230096.7</td>\n",
       "      <td>129926.2</td>\n",
       "      <td>100169.5</td>\n",
       "    </tr>\n",
       "    <tr>\n",
       "      <th>3</th>\n",
       "      <td>All Practice Types</td>\n",
       "      <td>2005/06</td>\n",
       "      <td>33874.98</td>\n",
       "      <td>245019.6</td>\n",
       "      <td>135016</td>\n",
       "      <td>110003.6</td>\n",
       "    </tr>\n",
       "    <tr>\n",
       "      <th>4</th>\n",
       "      <td>All Practice Types</td>\n",
       "      <td>2006/07</td>\n",
       "      <td>33887</td>\n",
       "      <td>247361.6</td>\n",
       "      <td>139694.4</td>\n",
       "      <td>107667.2</td>\n",
       "    </tr>\n",
       "    <tr>\n",
       "      <th>5</th>\n",
       "      <td>All Practice Types</td>\n",
       "      <td>2007/08</td>\n",
       "      <td>33622</td>\n",
       "      <td>251997.3</td>\n",
       "      <td>145925.4</td>\n",
       "      <td>106071.9</td>\n",
       "    </tr>\n",
       "    <tr>\n",
       "      <th>6</th>\n",
       "      <td>All Practice Types</td>\n",
       "      <td>2008/09</td>\n",
       "      <td>33371</td>\n",
       "      <td>258600</td>\n",
       "      <td>153300</td>\n",
       "      <td>105300</td>\n",
       "    </tr>\n",
       "    <tr>\n",
       "      <th>7</th>\n",
       "      <td>All Practice Types</td>\n",
       "      <td>2009/10</td>\n",
       "      <td>33050</td>\n",
       "      <td>262700</td>\n",
       "      <td>156900</td>\n",
       "      <td>105700</td>\n",
       "    </tr>\n",
       "    <tr>\n",
       "      <th>8</th>\n",
       "      <td>All Practice Types</td>\n",
       "      <td>2010/11</td>\n",
       "      <td>33000</td>\n",
       "      <td>266500</td>\n",
       "      <td>162400</td>\n",
       "      <td>104100</td>\n",
       "    </tr>\n",
       "    <tr>\n",
       "      <th>9</th>\n",
       "      <td>All Practice Types</td>\n",
       "      <td>2011/12</td>\n",
       "      <td>32950</td>\n",
       "      <td>267900</td>\n",
       "      <td>164900</td>\n",
       "      <td>103000</td>\n",
       "    </tr>\n",
       "    <tr>\n",
       "      <th>10</th>\n",
       "      <td>All Practice Types</td>\n",
       "      <td>2012/13</td>\n",
       "      <td>32850</td>\n",
       "      <td>271800</td>\n",
       "      <td>169700</td>\n",
       "      <td>102000</td>\n",
       "    </tr>\n",
       "    <tr>\n",
       "      <th>11</th>\n",
       "      <td>All Dispensing</td>\n",
       "      <td>2002/031</td>\n",
       "      <td>4851</td>\n",
       "      <td>271003</td>\n",
       "      <td>183830</td>\n",
       "      <td>87172</td>\n",
       "    </tr>\n",
       "    <tr>\n",
       "      <th>12</th>\n",
       "      <td>All Dispensing</td>\n",
       "      <td>2003/041</td>\n",
       "      <td>5233.81</td>\n",
       "      <td>286133.3</td>\n",
       "      <td>188593.1</td>\n",
       "      <td>97540.19</td>\n",
       "    </tr>\n",
       "    <tr>\n",
       "      <th>13</th>\n",
       "      <td>All Dispensing</td>\n",
       "      <td>2004/05</td>\n",
       "      <td>5329.23</td>\n",
       "      <td>317973.9</td>\n",
       "      <td>198418.1</td>\n",
       "      <td>119555.8</td>\n",
       "    </tr>\n",
       "    <tr>\n",
       "      <th>14</th>\n",
       "      <td>All Dispensing</td>\n",
       "      <td>2005/06</td>\n",
       "      <td>5303.1</td>\n",
       "      <td>331894.9</td>\n",
       "      <td>204833.9</td>\n",
       "      <td>127061</td>\n",
       "    </tr>\n",
       "    <tr>\n",
       "      <th>15</th>\n",
       "      <td>All Dispensing</td>\n",
       "      <td>2006/07</td>\n",
       "      <td>5288</td>\n",
       "      <td>330790.8</td>\n",
       "      <td>203794.5</td>\n",
       "      <td>126996.3</td>\n",
       "    </tr>\n",
       "    <tr>\n",
       "      <th>16</th>\n",
       "      <td>All Dispensing</td>\n",
       "      <td>2007/08</td>\n",
       "      <td>5121</td>\n",
       "      <td>338498.9</td>\n",
       "      <td>213334.2</td>\n",
       "      <td>125164.7</td>\n",
       "    </tr>\n",
       "    <tr>\n",
       "      <th>17</th>\n",
       "      <td>All Dispensing</td>\n",
       "      <td>2008/09</td>\n",
       "      <td>4910</td>\n",
       "      <td>346800</td>\n",
       "      <td>225400</td>\n",
       "      <td>121500</td>\n",
       "    </tr>\n",
       "    <tr>\n",
       "      <th>18</th>\n",
       "      <td>All Dispensing</td>\n",
       "      <td>2009/10</td>\n",
       "      <td>4850</td>\n",
       "      <td>348200</td>\n",
       "      <td>226800</td>\n",
       "      <td>121400</td>\n",
       "    </tr>\n",
       "    <tr>\n",
       "      <th>19</th>\n",
       "      <td>All Dispensing</td>\n",
       "      <td>2010/11</td>\n",
       "      <td>5050</td>\n",
       "      <td>356500</td>\n",
       "      <td>237700</td>\n",
       "      <td>118800</td>\n",
       "    </tr>\n",
       "    <tr>\n",
       "      <th>20</th>\n",
       "      <td>All Dispensing</td>\n",
       "      <td>2011/12</td>\n",
       "      <td>5000</td>\n",
       "      <td>357800</td>\n",
       "      <td>241900</td>\n",
       "      <td>115900</td>\n",
       "    </tr>\n",
       "    <tr>\n",
       "      <th>21</th>\n",
       "      <td>All Dispensing</td>\n",
       "      <td>2012/13</td>\n",
       "      <td>4900</td>\n",
       "      <td>360400</td>\n",
       "      <td>246100</td>\n",
       "      <td>114300</td>\n",
       "    </tr>\n",
       "    <tr>\n",
       "      <th>22</th>\n",
       "      <td>All Non-Dispensing</td>\n",
       "      <td>2002/031,2</td>\n",
       "      <td>-</td>\n",
       "      <td>-</td>\n",
       "      <td>-</td>\n",
       "      <td>-</td>\n",
       "    </tr>\n",
       "    <tr>\n",
       "      <th>23</th>\n",
       "      <td>All Non-Dispensing</td>\n",
       "      <td>2003/041,2</td>\n",
       "      <td>-</td>\n",
       "      <td>-</td>\n",
       "      <td>-</td>\n",
       "      <td>-</td>\n",
       "    </tr>\n",
       "    <tr>\n",
       "      <th>24</th>\n",
       "      <td>All Non-Dispensing</td>\n",
       "      <td>2004/05</td>\n",
       "      <td>28558.76</td>\n",
       "      <td>213738.3</td>\n",
       "      <td>117145.2</td>\n",
       "      <td>96593.08</td>\n",
       "    </tr>\n",
       "    <tr>\n",
       "      <th>25</th>\n",
       "      <td>All Non-Dispensing</td>\n",
       "      <td>2005/06</td>\n",
       "      <td>28571.88</td>\n",
       "      <td>228319.4</td>\n",
       "      <td>121638.9</td>\n",
       "      <td>106680.5</td>\n",
       "    </tr>\n",
       "    <tr>\n",
       "      <th>26</th>\n",
       "      <td>All Non-Dispensing</td>\n",
       "      <td>2006/07</td>\n",
       "      <td>28599</td>\n",
       "      <td>231935.4</td>\n",
       "      <td>127842.2</td>\n",
       "      <td>104093.2</td>\n",
       "    </tr>\n",
       "    <tr>\n",
       "      <th>27</th>\n",
       "      <td>All Non-Dispensing</td>\n",
       "      <td>2007/08</td>\n",
       "      <td>28501</td>\n",
       "      <td>236454.8</td>\n",
       "      <td>133813.5</td>\n",
       "      <td>102641.3</td>\n",
       "    </tr>\n",
       "    <tr>\n",
       "      <th>28</th>\n",
       "      <td>All Non-Dispensing</td>\n",
       "      <td>2008/09</td>\n",
       "      <td>28461</td>\n",
       "      <td>243400</td>\n",
       "      <td>140900</td>\n",
       "      <td>102500</td>\n",
       "    </tr>\n",
       "    <tr>\n",
       "      <th>29</th>\n",
       "      <td>All Non-Dispensing</td>\n",
       "      <td>2009/10</td>\n",
       "      <td>28200</td>\n",
       "      <td>248000</td>\n",
       "      <td>145000</td>\n",
       "      <td>103000</td>\n",
       "    </tr>\n",
       "    <tr>\n",
       "      <th>30</th>\n",
       "      <td>All Non-Dispensing</td>\n",
       "      <td>2010/11</td>\n",
       "      <td>27950</td>\n",
       "      <td>250300</td>\n",
       "      <td>148900</td>\n",
       "      <td>101500</td>\n",
       "    </tr>\n",
       "    <tr>\n",
       "      <th>31</th>\n",
       "      <td>All Non-Dispensing</td>\n",
       "      <td>2011/12</td>\n",
       "      <td>27950</td>\n",
       "      <td>251900</td>\n",
       "      <td>151200</td>\n",
       "      <td>100700</td>\n",
       "    </tr>\n",
       "    <tr>\n",
       "      <th>32</th>\n",
       "      <td>All Non-Dispensing</td>\n",
       "      <td>2012/13</td>\n",
       "      <td>27900</td>\n",
       "      <td>256200</td>\n",
       "      <td>156300</td>\n",
       "      <td>99900</td>\n",
       "    </tr>\n",
       "  </tbody>\n",
       "</table>\n",
       "</div>"
      ],
      "text/plain": [
       "         Practice Type        Year Estimated Population Gross Earnings  \\\n",
       "0   All Practice Types    2002/031                31362         184154   \n",
       "1   All Practice Types    2003/041             31594.98       203613.5   \n",
       "2   All Practice Types     2004/05             33887.99       230096.7   \n",
       "3   All Practice Types     2005/06             33874.98       245019.6   \n",
       "4   All Practice Types     2006/07                33887       247361.6   \n",
       "5   All Practice Types     2007/08                33622       251997.3   \n",
       "6   All Practice Types     2008/09                33371         258600   \n",
       "7   All Practice Types     2009/10                33050         262700   \n",
       "8   All Practice Types     2010/11                33000         266500   \n",
       "9   All Practice Types     2011/12                32950         267900   \n",
       "10  All Practice Types     2012/13                32850         271800   \n",
       "11      All Dispensing    2002/031                 4851         271003   \n",
       "12      All Dispensing    2003/041              5233.81       286133.3   \n",
       "13      All Dispensing     2004/05              5329.23       317973.9   \n",
       "14      All Dispensing     2005/06               5303.1       331894.9   \n",
       "15      All Dispensing     2006/07                 5288       330790.8   \n",
       "16      All Dispensing     2007/08                 5121       338498.9   \n",
       "17      All Dispensing     2008/09                 4910         346800   \n",
       "18      All Dispensing     2009/10                 4850         348200   \n",
       "19      All Dispensing     2010/11                 5050         356500   \n",
       "20      All Dispensing     2011/12                 5000         357800   \n",
       "21      All Dispensing     2012/13                 4900         360400   \n",
       "22  All Non-Dispensing  2002/031,2                    -              -   \n",
       "23  All Non-Dispensing  2003/041,2                    -              -   \n",
       "24  All Non-Dispensing     2004/05             28558.76       213738.3   \n",
       "25  All Non-Dispensing     2005/06             28571.88       228319.4   \n",
       "26  All Non-Dispensing     2006/07                28599       231935.4   \n",
       "27  All Non-Dispensing     2007/08                28501       236454.8   \n",
       "28  All Non-Dispensing     2008/09                28461         243400   \n",
       "29  All Non-Dispensing     2009/10                28200         248000   \n",
       "30  All Non-Dispensing     2010/11                27950         250300   \n",
       "31  All Non-Dispensing     2011/12                27950         251900   \n",
       "32  All Non-Dispensing     2012/13                27900         256200   \n",
       "\n",
       "   Total Expenses Income Before Tax  \n",
       "0          111439             72716  \n",
       "1        121594.8          82018.71  \n",
       "2        129926.2          100169.5  \n",
       "3          135016          110003.6  \n",
       "4        139694.4          107667.2  \n",
       "5        145925.4          106071.9  \n",
       "6          153300            105300  \n",
       "7          156900            105700  \n",
       "8          162400            104100  \n",
       "9          164900            103000  \n",
       "10         169700            102000  \n",
       "11         183830             87172  \n",
       "12       188593.1          97540.19  \n",
       "13       198418.1          119555.8  \n",
       "14       204833.9            127061  \n",
       "15       203794.5          126996.3  \n",
       "16       213334.2          125164.7  \n",
       "17         225400            121500  \n",
       "18         226800            121400  \n",
       "19         237700            118800  \n",
       "20         241900            115900  \n",
       "21         246100            114300  \n",
       "22              -                 -  \n",
       "23              -                 -  \n",
       "24       117145.2          96593.08  \n",
       "25       121638.9          106680.5  \n",
       "26       127842.2          104093.2  \n",
       "27       133813.5          102641.3  \n",
       "28         140900            102500  \n",
       "29         145000            103000  \n",
       "30         148900            101500  \n",
       "31         151200            100700  \n",
       "32         156300             99900  "
      ]
     },
     "execution_count": 278,
     "metadata": {},
     "output_type": "execute_result"
    }
   ],
   "source": [
    "big_frame"
   ]
  },
  {
   "cell_type": "markdown",
   "metadata": {},
   "source": [
    "$x\n",
    "  = \\dfrac{\\dfrac{a}{b}}{c}\n",
    "  = \\dfrac{\\frac{\\textstyle a}{\\textstyle b}}{c}\n",
    "  = \\dfrac{\\frac{a}{b}}{c}\n",
    "  \\equiv \\dfrac{\\tfrac{a}{b}}{c}\n",
    "  + \\sum(x)\n",
    "$"
   ]
  },
  {
   "cell_type": "code",
   "execution_count": null,
   "metadata": {
    "collapsed": true
   },
   "outputs": [],
   "source": []
  },
  {
   "cell_type": "code",
   "execution_count": null,
   "metadata": {
    "collapsed": true
   },
   "outputs": [],
   "source": []
  },
  {
   "cell_type": "code",
   "execution_count": null,
   "metadata": {
    "collapsed": true
   },
   "outputs": [],
   "source": []
  },
  {
   "cell_type": "code",
   "execution_count": null,
   "metadata": {
    "collapsed": true
   },
   "outputs": [],
   "source": []
  },
  {
   "cell_type": "code",
   "execution_count": null,
   "metadata": {
    "collapsed": true
   },
   "outputs": [],
   "source": []
  },
  {
   "cell_type": "code",
   "execution_count": null,
   "metadata": {
    "collapsed": true
   },
   "outputs": [],
   "source": []
  },
  {
   "cell_type": "code",
   "execution_count": null,
   "metadata": {
    "collapsed": true
   },
   "outputs": [],
   "source": []
  },
  {
   "cell_type": "code",
   "execution_count": null,
   "metadata": {
    "collapsed": true
   },
   "outputs": [],
   "source": []
  },
  {
   "cell_type": "code",
   "execution_count": null,
   "metadata": {
    "collapsed": true
   },
   "outputs": [],
   "source": []
  },
  {
   "cell_type": "code",
   "execution_count": null,
   "metadata": {
    "collapsed": true
   },
   "outputs": [],
   "source": []
  },
  {
   "cell_type": "code",
   "execution_count": null,
   "metadata": {
    "collapsed": true
   },
   "outputs": [],
   "source": []
  },
  {
   "cell_type": "code",
   "execution_count": null,
   "metadata": {
    "collapsed": true
   },
   "outputs": [],
   "source": []
  },
  {
   "cell_type": "code",
   "execution_count": null,
   "metadata": {
    "collapsed": true
   },
   "outputs": [],
   "source": []
  },
  {
   "cell_type": "code",
   "execution_count": null,
   "metadata": {
    "collapsed": true
   },
   "outputs": [],
   "source": []
  },
  {
   "cell_type": "code",
   "execution_count": null,
   "metadata": {
    "collapsed": true
   },
   "outputs": [],
   "source": []
  },
  {
   "cell_type": "code",
   "execution_count": null,
   "metadata": {
    "collapsed": true
   },
   "outputs": [],
   "source": []
  },
  {
   "cell_type": "code",
   "execution_count": null,
   "metadata": {
    "collapsed": true
   },
   "outputs": [],
   "source": []
  }
 ],
 "metadata": {
  "kernelspec": {
   "display_name": "Python 3",
   "language": "python",
   "name": "python3"
  },
  "language_info": {
   "codemirror_mode": {
    "name": "ipython",
    "version": 3
   },
   "file_extension": ".py",
   "mimetype": "text/x-python",
   "name": "python",
   "nbconvert_exporter": "python",
   "pygments_lexer": "ipython3",
   "version": "3.4.2"
  }
 },
 "nbformat": 4,
 "nbformat_minor": 0
}

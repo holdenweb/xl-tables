{
 "cells": [
  {
   "cell_type": "markdown",
   "metadata": {},
   "source": [
    "## Health Data Reusability Project\n",
    "\n",
    "This notebook is an informal investigation into the technologies needed to take the data contained in \"open data\" publications from the UK Department of Health. This will allow researchers to automate computations and respond more speedily to changes.\n",
    "\n",
    "Some of this is ugly, some of it will doubtless be unnecessary, but it shows at least some of the preliminary work that goes into getting one's thinking straightened out about a particular program or set of programs."
   ]
  },
  {
   "cell_type": "code",
   "execution_count": 1,
   "metadata": {
    "collapsed": false
   },
   "outputs": [],
   "source": [
    "import openpyxl as xl"
   ]
  },
  {
   "cell_type": "markdown",
   "metadata": {},
   "source": [
    "Note that this softare cannot read \".xls\" files. `wb = xl.load_workbook(\"data/gpearnextime.xls\")` raises an exception, so I toook the quick route and converted it to a \".xlsx\" file with Word before further processing.\n",
    "\n",
    "It might be worth investigating the older `xlrd` module, which can reals \".xls\" files (though sadly there appears\n",
    "to be no easy way to write them out as \".xslx\" files which I had hopes `xlwt` might have provided. I suspect that there will be an easy fix for this, but I'll need to speak to Chris Withers."
   ]
  },
  {
   "cell_type": "code",
   "execution_count": 2,
   "metadata": {
    "collapsed": false
   },
   "outputs": [
    {
     "name": "stderr",
     "output_type": "stream",
     "text": [
      "/Users/sholden/Projects/HealthData/hd.env/lib/python3.4/site-packages/openpyxl/workbook/names/named_range.py:122: UserWarning: Discarded range with reserved name\n",
      "  warnings.warn(\"Discarded range with reserved name\")\n",
      "/Users/sholden/Projects/HealthData/hd.env/lib/python3.4/site-packages/openpyxl/workbook/names/named_range.py:150: UserWarning: Invalid range_names: _A1, _Cal05, _Cc1, _Dd1, _Ee1, _Ff1, newname1, _xlnm.Print_Area, _xlnm.Print_Titles\n",
      "  warnings.warn(\"Invalid range_names: \"+\", \".join(invalid_range_names))\n"
     ]
    }
   ],
   "source": [
    "wb = xl.load_workbook(\"data/gpearnextime.xlsx\")"
   ]
  },
  {
   "cell_type": "code",
   "execution_count": 3,
   "metadata": {
    "collapsed": false
   },
   "outputs": [
    {
     "data": {
      "text/plain": [
       "['Contents',\n",
       " 'Definitions and Changes',\n",
       " '1a. GPMS Cash Terms ',\n",
       " '1b. GPMS Real Terms',\n",
       " 'Real terms working - HIDE',\n",
       " '1c. GMS',\n",
       " '1d. PMS',\n",
       " '2a. GPMS Expenses',\n",
       " '2b. GMS Expenses',\n",
       " '2c. PMS Expenses',\n",
       " '3a. GPMS by Age ',\n",
       " '3b. GPMS by Age ',\n",
       " '4a. GPMS by Rurality ',\n",
       " '4b. GPMS by Rurality ',\n",
       " '5a. GPMS by Practice Size',\n",
       " '5b. GPMS by Practice Size',\n",
       " '6a. GPMS by SHA_GOR',\n",
       " '6b. GPMS by SHA_GOR ',\n",
       " '7a. GPMS by NHS ER',\n",
       " '7b. GPMS by NHS ER',\n",
       " '8. GPMS Distribution',\n",
       " '9a. All Salaried',\n",
       " '9b. Salaried by Country ',\n",
       " '9c. Salaried by Age',\n",
       " '9d. Salaried by Rurality',\n",
       " '9e. Salaried by SHA_GOR',\n",
       " '9f. Salaried by NHS ER',\n",
       " '10. Salaried Distribution ',\n",
       " '11. Combined GPs']"
      ]
     },
     "execution_count": 3,
     "metadata": {},
     "output_type": "execute_result"
    }
   ],
   "source": [
    "wb.sheetnames"
   ]
  },
  {
   "cell_type": "code",
   "execution_count": 4,
   "metadata": {
    "collapsed": true
   },
   "outputs": [],
   "source": [
    "ws = wb.get_sheet_by_name('1a. GPMS Cash Terms ')"
   ]
  },
  {
   "cell_type": "code",
   "execution_count": 5,
   "metadata": {
    "collapsed": false
   },
   "outputs": [
    {
     "data": {
      "text/plain": [
       "'All Practice Types'"
      ]
     },
     "execution_count": 5,
     "metadata": {},
     "output_type": "execute_result"
    }
   ],
   "source": [
    "ws[\"B7\"].value"
   ]
  },
  {
   "cell_type": "code",
   "execution_count": 6,
   "metadata": {
    "collapsed": false
   },
   "outputs": [
    {
     "name": "stdout",
     "output_type": "stream",
     "text": [
      "Return to contents None\n",
      "None None\n",
      "GP EARNINGS AND EXPENSES 2002/03 TO 2012/13 CASH TERMS \n",
      "UK, ENGLAND, SCOTLAND, WALES, NORTHERN IRELAND None\n",
      "None None\n",
      "GPMS UK None\n",
      "Practice Type Year\n",
      "All Practice Types 2002/031\n",
      "None 2003/041\n",
      "None 2004/05\n",
      "None 2005/06\n",
      "None 2006/07\n",
      "None 2007/08\n",
      "None 2008/09\n",
      "None 2009/10\n",
      "None 2010/11\n",
      "None 2011/12\n",
      "None 2012/13\n",
      "All Dispensing 2002/031\n",
      "None 2003/041\n",
      "None 2004/05\n",
      "None 2005/06\n",
      "None 2006/07\n",
      "None 2007/08\n",
      "None 2008/09\n",
      "None 2009/10\n",
      "None 2010/11\n",
      "None 2011/12\n",
      "None 2012/13\n",
      "All Non-Dispensing 2002/031,2\n",
      "None 2003/041,2\n",
      "None 2004/05\n",
      "None 2005/06\n",
      "None 2006/07\n",
      "None 2007/08\n",
      "None 2008/09\n",
      "None 2009/10\n",
      "None 2010/11\n",
      "None 2011/12\n",
      "None 2012/13\n",
      "None None\n",
      "None None\n",
      "GPMS ENGLAND None\n",
      "Practice Type Year\n",
      "All Practice Types 2002/03\n",
      "None 2003/04\n",
      "None 2004/05\n",
      "None 2005/06\n",
      "None 2006/07\n",
      "None 2007/08\n",
      "None 2008/09\n",
      "None 2009/10\n",
      "None 2010/11\n",
      "None 2011/12\n",
      "None 2012/13\n",
      "All Dispensing 2002/03\n",
      "None 2003/04\n",
      "None 2004/053\n",
      "None 2005/06\n",
      "None 2006/07\n",
      "None 2007/08\n",
      "None 2008/09\n",
      "None 2009/10\n",
      "None 2010/11\n",
      "None 2011/12\n",
      "None 2012/13\n",
      "All Non-Dispensing 2002/032\n",
      "None 2003/042\n",
      "None 2004/053\n",
      "None 2005/06\n",
      "None 2006/07\n",
      "None 2007/08\n",
      "None 2008/09\n",
      "None 2009/10\n",
      "None 2010/11\n",
      "None 2011/12\n",
      "None 2012/13\n",
      "None None\n",
      "None None\n",
      "GPMS SCOTLAND None\n",
      "Practice Type Year\n",
      "All Practice Types 2002/034\n",
      "None 2003/04\n",
      "None 2004/05\n",
      "None 2005/06\n",
      "None 2006/07\n",
      "None 2007/08\n",
      "None 2008/09\n",
      "None 2009/10\n",
      "None 2010/11\n",
      "None 2011/12\n",
      "None 2012/13\n",
      "All Dispensing 2002/034\n",
      "None 2003/04\n",
      "None 2004/053\n",
      "None 2005/06\n",
      "None 2006/07\n",
      "None 2007/08\n",
      "None 2008/09\n",
      "None 2009/10\n",
      "None 2010/11\n",
      "None 2011/12\n",
      "None 2012/13\n",
      "All Non-Dispensing 2002/032,4\n",
      "None 2003/042\n",
      "None 2004/053\n",
      "None 2005/06\n",
      "None 2006/07\n",
      "None 2007/08\n",
      "None 2008/09\n",
      "None 2009/10\n",
      "None 2010/11\n",
      "None 2011/12\n",
      "None 2012/13\n",
      "None None\n",
      "None None\n",
      "GPMS WALES None\n",
      "Practice Type Year\n",
      "All Practice Types 2002/03\n",
      "None 2003/04\n",
      "None 2004/05\n",
      "None 2005/06\n",
      "None 2006/07\n",
      "None 2007/08\n",
      "None 2008/09\n",
      "None 2009/10\n",
      "None 2010/11\n",
      "None 2011/12\n",
      "None 2012/13\n",
      "All Dispensing 2002/03\n",
      "None 2003/04\n",
      "None 2004/053\n",
      "None 2005/06\n",
      "None 2006/07\n",
      "None 2007/08\n",
      "None 2008/09\n",
      "None 2009/10\n",
      "None 2010/11\n",
      "None 2011/12\n",
      "None 2012/13\n",
      "All Non-Dispensing 2002/032\n",
      "None 2003/042\n",
      "None 2004/053\n",
      "None 2005/06\n",
      "None 2006/07\n",
      "None 2007/08\n",
      "None 2008/09\n",
      "None 2009/10\n",
      "None 2010/11\n",
      "None 2011/12\n",
      "None 2012/13\n",
      "None None\n",
      "None None\n",
      "GPMS NORTHERN IRELAND None\n",
      "Practice Type Year\n",
      "All Practice Types 2002/03\n",
      "None 2003/04\n",
      "None 2004/05\n",
      "None 2005/06\n",
      "None 2006/07\n",
      "None 2007/08\n",
      "None 2008/09\n",
      "None 2009/10\n",
      "None 2010/11\n",
      "None 2011/12\n",
      "None 2012/13\n",
      "All Dispensing 2002/03\n",
      "None 2003/04\n",
      "None 2004/05\n",
      "None 2005/06\n",
      "None 2006/07\n",
      "None 2007/08\n",
      "None 2008/09\n",
      "None 2009/10\n",
      "None 2010/11\n",
      "None 2011/12\n",
      "None 2012/13\n",
      "All Non-Dispensing 2002/032\n",
      "None 2003/042\n",
      "None 2004/05\n",
      "None 2005/06\n",
      "None 2006/07\n",
      "None 2007/08\n",
      "None 2008/09\n",
      "None 2009/10\n",
      "None 2010/11\n",
      "None 2011/12\n",
      "None 2012/13\n",
      "None None\n",
      "1 GB not UK figures. Despite Northern Ireland figures being published for these years, UK figures were not published. None\n",
      "2 Pre 2004/05 two categories were used to describe non dispensers,  \"non dispensers with help\" and \"non dispensers without help\". None\n",
      " Therefore, figures for All Non-Dispensers for these years are not available. However, this was not the case for Northern Ireland figures. None\n",
      "3 In 2004/05, only high level figures were adjusted, therefore some results are not available. See the definitions and changes tab  None\n",
      " for more information on adjustments. None\n",
      "4 PMS figures are not available for Scotland in 2002/03, therefore the GPMS figures are not included. None\n",
      "None None\n",
      "Return to Top None\n",
      "None None\n",
      "Copyright © 2014, The Health and Social Care Information Centre. All Rights Reserved. None\n",
      "None None\n"
     ]
    }
   ],
   "source": [
    "for i in range(1, 200):\n",
    "    print(ws[\"B{}\".format(i)].value, ws[\"C{}\".format(i)].value)"
   ]
  },
  {
   "cell_type": "markdown",
   "metadata": {},
   "source": [
    "Note that the date values and the footnote numbers run together to give a single string value.\n",
    "That means some parsing has to be applied to separate it into a `(date, footnote)` pair, whose\n",
    "second member will be `None` if no notes apply.\n",
    "From an openness point of view it wold be much better to have a separate column for the footnotes that should be applied to the row."
   ]
  },
  {
   "cell_type": "markdown",
   "metadata": {},
   "source": [
    "Turns out that may not be as useful as I thought. It would probably be eaiser to maintain the column values as part ofthe processing logic.\n",
    "\n",
    "(This was borne out when I wrote a non-terminting loop when experimenting with the code below)"
   ]
  },
  {
   "cell_type": "code",
   "execution_count": 7,
   "metadata": {
    "collapsed": false
   },
   "outputs": [
    {
     "data": {
      "text/plain": [
       "'GP EARNINGS AND EXPENSES 2002/03 TO 2012/13 CASH TERMS \\nUK, ENGLAND, SCOTLAND, WALES, NORTHERN IRELAND'"
      ]
     },
     "execution_count": 7,
     "metadata": {},
     "output_type": "execute_result"
    }
   ],
   "source": [
    "ws[\"B3\"].value"
   ]
  },
  {
   "cell_type": "code",
   "execution_count": 8,
   "metadata": {
    "collapsed": false
   },
   "outputs": [],
   "source": [
    "def year_refs(s):\n",
    "    \"\"\"Separate the year string into the year plus the list of references\"\"\"\n",
    "    return s[:7], s[7:].split(\",\")"
   ]
  },
  {
   "cell_type": "code",
   "execution_count": 9,
   "metadata": {
    "collapsed": false
   },
   "outputs": [
    {
     "data": {
      "text/plain": [
       "'-'"
      ]
     },
     "execution_count": 9,
     "metadata": {},
     "output_type": "execute_result"
    }
   ],
   "source": [
    "ws[\"d81\"].value"
   ]
  },
  {
   "cell_type": "code",
   "execution_count": 10,
   "metadata": {
    "collapsed": true
   },
   "outputs": [],
   "source": [
    "def num_val(val):\n",
    "    return 0 if val == \"-\" else val"
   ]
  },
  {
   "cell_type": "code",
   "execution_count": 11,
   "metadata": {
    "collapsed": false
   },
   "outputs": [
    {
     "data": {
      "text/plain": [
       "32.456"
      ]
     },
     "execution_count": 11,
     "metadata": {},
     "output_type": "execute_result"
    }
   ],
   "source": [
    "num_val(32.456)"
   ]
  },
  {
   "cell_type": "code",
   "execution_count": 12,
   "metadata": {
    "collapsed": false
   },
   "outputs": [
    {
     "data": {
      "text/plain": [
       "0"
      ]
     },
     "execution_count": 12,
     "metadata": {},
     "output_type": "execute_result"
    }
   ],
   "source": [
    "num_val(\"-\")"
   ]
  },
  {
   "cell_type": "code",
   "execution_count": 13,
   "metadata": {
    "collapsed": false
   },
   "outputs": [
    {
     "data": {
      "text/plain": [
       "False"
      ]
     },
     "execution_count": 13,
     "metadata": {},
     "output_type": "execute_result"
    }
   ],
   "source": [
    "3 == \"banana\""
   ]
  },
  {
   "cell_type": "code",
   "execution_count": 14,
   "metadata": {
    "collapsed": true
   },
   "outputs": [],
   "source": [
    "cell = ws[\"B3\"]"
   ]
  },
  {
   "cell_type": "markdown",
   "metadata": {},
   "source": [
    "Probably a good idea to look at how we can find the relevant areas in a worksheet, then analyze the content of those areas (which will vary in size, increasing as the years go by."
   ]
  },
  {
   "cell_type": "code",
   "execution_count": 15,
   "metadata": {
    "collapsed": false
   },
   "outputs": [
    {
     "data": {
      "text/plain": [
       "'GP EARNINGS AND EXPENSES 2002/03 TO 2012/13 CASH TERMS \\nUK, ENGLAND, SCOTLAND, WALES, NORTHERN IRELAND'"
      ]
     },
     "execution_count": 15,
     "metadata": {},
     "output_type": "execute_result"
    }
   ],
   "source": [
    "ws[\"B3\"].value # Sheet heading"
   ]
  },
  {
   "cell_type": "code",
   "execution_count": 16,
   "metadata": {
    "collapsed": false
   },
   "outputs": [
    {
     "data": {
      "text/plain": [
       "'GPMS UK'"
      ]
     },
     "execution_count": 16,
     "metadata": {},
     "output_type": "execute_result"
    }
   ],
   "source": [
    "ws[\"B5\"].value # Table heading"
   ]
  },
  {
   "cell_type": "code",
   "execution_count": 17,
   "metadata": {
    "collapsed": false
   },
   "outputs": [],
   "source": [
    "cells = ws.get_cell_collection()"
   ]
  },
  {
   "cell_type": "code",
   "execution_count": 18,
   "metadata": {
    "collapsed": false
   },
   "outputs": [],
   "source": [
    "from collections import defaultdict\n",
    "\n",
    "cols_in_row = defaultdict(list)\n",
    "\n",
    "for cell in cells:\n",
    "    if cell.value is not None:\n",
    "        cols_in_row[cell.row].append(cell.column)"
   ]
  },
  {
   "cell_type": "code",
   "execution_count": 19,
   "metadata": {
    "collapsed": false
   },
   "outputs": [
    {
     "data": {
      "text/plain": [
       "198"
      ]
     },
     "execution_count": 19,
     "metadata": {},
     "output_type": "execute_result"
    }
   ],
   "source": [
    "max_row = max(c for c in sorted(cols_in_row.keys()))\n",
    "max_row"
   ]
  },
  {
   "cell_type": "markdown",
   "metadata": {},
   "source": [
    "Note that cell J43 has a spurious value that should really be ignored. Wonder how long that's been there and who knows it is ..."
   ]
  },
  {
   "cell_type": "code",
   "execution_count": 20,
   "metadata": {
    "collapsed": false
   },
   "outputs": [
    {
     "data": {
      "text/plain": [
       "['F', 'G', 'B', 'E', 'C', 'D']"
      ]
     },
     "execution_count": 20,
     "metadata": {},
     "output_type": "execute_result"
    }
   ],
   "source": [
    "cols_in_row[43].remove('J')\n",
    "cols_in_row[43]"
   ]
  },
  {
   "cell_type": "raw",
   "metadata": {
    "collapsed": false
   },
   "source": [
    "max_col = max(c for r in range(rows) for c in cols_in_row[r])\n",
    "max_col"
   ]
  },
  {
   "cell_type": "raw",
   "metadata": {
    "collapsed": false
   },
   "source": [
    "cols = ord(max_col)-ord(\"@\")"
   ]
  },
  {
   "cell_type": "code",
   "execution_count": 21,
   "metadata": {
    "collapsed": false,
    "scrolled": true
   },
   "outputs": [],
   "source": [
    "pixels = [] # straight list of pixel values for graphic\n",
    "matrix = []\n",
    "#print(\"  \".join(list(\"ABCDEFG\"))) # Column headings\n",
    "for row_num in range(max_row):\n",
    "    cols = cols_in_row[row_num]\n",
    "    row_string = []\n",
    "    row_matrix = []\n",
    "    for col_name in \"ABCDEFG\":\n",
    "        row_string.append(\"*\" if col_name in cols else \" \")\n",
    "        row_matrix.append(col_name in cols)\n",
    "    #print(\"  \".join(row_string))\n",
    "    matrix.append(row_matrix)\n",
    "    pixels += [1-p for p in row_matrix] + [1]*7 # add pixel row plus blank row"
   ]
  },
  {
   "cell_type": "code",
   "execution_count": 22,
   "metadata": {
    "collapsed": false
   },
   "outputs": [],
   "source": [
    "from PIL import Image\n",
    "im = Image.new(\"1\", (7, 198*2))"
   ]
  },
  {
   "cell_type": "code",
   "execution_count": 23,
   "metadata": {
    "collapsed": false
   },
   "outputs": [],
   "source": [
    "im.putdata(pixels)"
   ]
  },
  {
   "cell_type": "code",
   "execution_count": 24,
   "metadata": {
    "collapsed": false
   },
   "outputs": [
    {
     "data": {
      "image/png": "[encoded data removed]",
      "text/plain": [
       "<PIL.Image.Image image mode=1 size=140x792 at 0x110C7CC88>"
      ]
     },
     "execution_count": 24,
     "metadata": {},
     "output_type": "execute_result"
    }
   ],
   "source": [
    "im.resize((7*20, 198*4))"
   ]
  },
  {
   "cell_type": "markdown",
   "metadata": {},
   "source": [
    "This visualization makes the pattern of the tables more obvious.\n",
    "There's a row with a single cell, followed by two cells with six rows and a number of rows with five cells.\n",
    "Since no row has more than seven cells we can construct a string of row lengths and then\n",
    "use pattern matching to find the starting positions of the tables."
   ]
  },
  {
   "cell_type": "code",
   "execution_count": 25,
   "metadata": {
    "collapsed": true
   },
   "outputs": [],
   "source": [
    "str_sizes = \"\".join(str(sum(x for x in row)) for row in matrix)"
   ]
  },
  {
   "cell_type": "code",
   "execution_count": 26,
   "metadata": {
    "collapsed": false
   },
   "outputs": [
    {
     "name": "stdout",
     "output_type": "stream",
     "text": [
      "5\n",
      "42\n",
      "79\n",
      "116\n",
      "153\n"
     ]
    }
   ],
   "source": [
    "import re\n",
    "for m in re.finditer(\"(?P<m>1665)\", str_sizes):\n",
    "    print(m.span()[0])"
   ]
  },
  {
   "cell_type": "markdown",
   "metadata": {
    "collapsed": true,
    "scrolled": false
   },
   "source": [
    "Maybe there's some easier way to determing the shape without all these complex manipulations.\n",
    "I don't know about you, but I often find my second approach to a problem is more intelligent\n",
    "than the first (that's why we are often recommended to write a prototype _and then throw it away_)."
   ]
  },
  {
   "cell_type": "code",
   "execution_count": 27,
   "metadata": {
    "collapsed": false
   },
   "outputs": [
    {
     "data": {
      "text/plain": [
       "16"
      ]
     },
     "execution_count": 27,
     "metadata": {},
     "output_type": "execute_result"
    }
   ],
   "source": [
    "len(ws.columns)"
   ]
  },
  {
   "cell_type": "code",
   "execution_count": 28,
   "metadata": {
    "collapsed": false
   },
   "outputs": [],
   "source": [
    "col_counts =[sum(cell.value is not None for cell in column) for column in ws.columns]"
   ]
  },
  {
   "cell_type": "code",
   "execution_count": 29,
   "metadata": {
    "collapsed": false
   },
   "outputs": [
    {
     "data": {
      "text/plain": [
       "[1, 2, 3, 4, 5, 6]"
      ]
     },
     "execution_count": 29,
     "metadata": {},
     "output_type": "execute_result"
    }
   ],
   "source": [
    "valid_cols = [i for (i, ct) in  enumerate(col_counts) if ct > 1]\n",
    "valid_cols"
   ]
  },
  {
   "cell_type": "code",
   "execution_count": 30,
   "metadata": {
    "collapsed": false
   },
   "outputs": [
    {
     "data": {
      "text/plain": [
       "185"
      ]
     },
     "execution_count": 30,
     "metadata": {},
     "output_type": "execute_result"
    }
   ],
   "source": [
    "row_counts =[sum(cell.value is not None for cell in row) for row in ws.rows]\n",
    "valid_rows = [i for (i, ct) in  enumerate(row_counts) if ct > 0]\n",
    "len(valid_rows)"
   ]
  },
  {
   "cell_type": "code",
   "execution_count": 43,
   "metadata": {
    "collapsed": false
   },
   "outputs": [],
   "source": [
    "ncols = len(valid_cols)\n",
    "max_row_num = max(valid_rows)\n",
    "pixels = []\n",
    "row_counts = []\n",
    "for row in range(max_row_num):\n",
    "    cell_strings = []\n",
    "    row_pixels = []\n",
    "    for col in valid_cols:\n",
    "        value = ws.rows[row][col].value\n",
    "        row_pixels.append(value is None)\n",
    "    pixels += row_pixels*3 + [1]*ncols # blank line\n",
    "    row_counts.append(sum(1-pixel for pixel in row_pixels))"
   ]
  },
  {
   "cell_type": "code",
   "execution_count": 44,
   "metadata": {
    "collapsed": false
   },
   "outputs": [
    {
     "data": {
      "image/png": "[encoded data removed]",
      "text/plain": [
       "<PIL.Image.Image image mode=1 size=84x1584 at 0x11174E3C8>"
      ]
     },
     "execution_count": 44,
     "metadata": {},
     "output_type": "execute_result"
    }
   ],
   "source": [
    "im = Image.new(\"1\", (ncols, 4*(max_row_num)))\n",
    "im.putdata(pixels)\n",
    "im.resize((14*ncols, 8*(max_row_num+1)))"
   ]
  },
  {
   "cell_type": "markdown",
   "metadata": {},
   "source": [
    "It appears that this techmique can be fairly effectively used to get an idea of the shape of a worksheet.\n",
    "The next step will be to turn that into a function with the worksheet as a parameter, and apply it to all the sheets on a workbook."
   ]
  },
  {
   "cell_type": "code",
   "execution_count": null,
   "metadata": {
    "collapsed": true
   },
   "outputs": [],
   "source": []
  }
 ],
 "metadata": {
  "kernelspec": {
   "display_name": "Python 3",
   "language": "python",
   "name": "python3"
  },
  "language_info": {
   "codemirror_mode": {
    "name": "ipython",
    "version": 3
   },
   "file_extension": ".py",
   "mimetype": "text/x-python",
   "name": "python",
   "nbconvert_exporter": "python",
   "pygments_lexer": "ipython3",
   "version": "3.4.2"
  }
 },
 "nbformat": 4,
 "nbformat_minor": 0
}
